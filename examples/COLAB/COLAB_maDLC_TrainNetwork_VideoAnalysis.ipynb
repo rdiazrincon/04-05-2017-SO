{
  "nbformat": 4,
  "nbformat_minor": 0,
  "metadata": {
    "accelerator": "GPU",
    "colab": {
      "collapsed_sections": [],
      "name": "COLAB_maDLC_TrainNetwork_VideoAnalysis.ipynb",
      "provenance": [],
      "include_colab_link": true
    },
    "kernelspec": {
      "display_name": "Python 3",
      "name": "python3"
    }
  },
  "cells": [
    {
      "cell_type": "markdown",
      "metadata": {
        "id": "view-in-github",
        "colab_type": "text"
      },
      "source": [
        "<a href=\"https://colab.research.google.com/github/Ricardo0621/04-05-2017-SO/blob/master/examples/COLAB/COLAB_maDLC_TrainNetwork_VideoAnalysis.ipynb\" target=\"_parent\"><img src=\"https://colab.research.google.com/assets/colab-badge.svg\" alt=\"Open In Colab\"/></a>"
      ]
    },
    {
      "cell_type": "markdown",
      "metadata": {
        "id": "RK255E7YoEIt"
      },
      "source": [
        "# DeepLabCut 2.2+ Toolbox - COLAB\n",
        "![alt text](https://images.squarespace-cdn.com/content/v1/57f6d51c9f74566f55ecf271/1628180434489-T0RIWEJJU0FJVOT6FNVD/maDLC.png?format=800w)\n",
        "\n",
        "https://github.com/DeepLabCut/DeepLabCut\n",
        "\n",
        "This notebook illustrates how to, for multi-animal projects, use the cloud-based GPU to:\n",
        "- create a multi-animal training set\n",
        "- train a network\n",
        "- evaluate a network\n",
        "- analyze novel videos\n",
        "- assemble animals and tracklets\n",
        "- create quality check plots!\n",
        "\n",
        "###This notebook assumes you already have a DLC project folder with labeled data and you uploaded it to your own Google Drive.\n",
        "\n",
        "This notebook demonstrates the necessary steps to use DeepLabCut for your own project.\n",
        "\n",
        "This shows the most simple code to do so, but many of the functions have additional features, so please check out the docs on GitHub. We also recommend checking out our preprint, which covers the science of maDLC\n",
        "\n",
        "**Lauer et al 2021:** https://www.biorxiv.org/content/10.1101/2021.04.30.442096v1\n",
        "\n",
        "\n"
      ]
    },
    {
      "cell_type": "markdown",
      "metadata": {
        "id": "txoddlM8hLKm"
      },
      "source": [
        "## First, go to \"Runtime\" ->\"change runtime type\"->select \"Python3\", and then select \"GPU\"\n"
      ]
    },
    {
      "cell_type": "code",
      "execution_count": 1,
      "metadata": {
        "id": "q23BzhA6CXxu",
        "colab": {
          "base_uri": "https://localhost:8080/"
        },
        "outputId": "6a13f9be-4f7b-4dc4-c10f-5bc7f362eb43"
      },
      "outputs": [
        {
          "output_type": "stream",
          "name": "stdout",
          "text": [
            "Collecting deeplabcut\n",
            "  Downloading deeplabcut-2.2.0.6-py3-none-any.whl (544 kB)\n",
            "\u001b[?25l\r\u001b[K     |▋                               | 10 kB 29.6 MB/s eta 0:00:01\r\u001b[K     |█▏                              | 20 kB 27.4 MB/s eta 0:00:01\r\u001b[K     |█▉                              | 30 kB 17.5 MB/s eta 0:00:01\r\u001b[K     |██▍                             | 40 kB 15.5 MB/s eta 0:00:01\r\u001b[K     |███                             | 51 kB 11.7 MB/s eta 0:00:01\r\u001b[K     |███▋                            | 61 kB 13.7 MB/s eta 0:00:01\r\u001b[K     |████▏                           | 71 kB 14.3 MB/s eta 0:00:01\r\u001b[K     |████▉                           | 81 kB 12.3 MB/s eta 0:00:01\r\u001b[K     |█████▍                          | 92 kB 13.6 MB/s eta 0:00:01\r\u001b[K     |██████                          | 102 kB 13.8 MB/s eta 0:00:01\r\u001b[K     |██████▋                         | 112 kB 13.8 MB/s eta 0:00:01\r\u001b[K     |███████▎                        | 122 kB 13.8 MB/s eta 0:00:01\r\u001b[K     |███████▉                        | 133 kB 13.8 MB/s eta 0:00:01\r\u001b[K     |████████▍                       | 143 kB 13.8 MB/s eta 0:00:01\r\u001b[K     |█████████                       | 153 kB 13.8 MB/s eta 0:00:01\r\u001b[K     |█████████▋                      | 163 kB 13.8 MB/s eta 0:00:01\r\u001b[K     |██████████▎                     | 174 kB 13.8 MB/s eta 0:00:01\r\u001b[K     |██████████▉                     | 184 kB 13.8 MB/s eta 0:00:01\r\u001b[K     |███████████▌                    | 194 kB 13.8 MB/s eta 0:00:01\r\u001b[K     |████████████                    | 204 kB 13.8 MB/s eta 0:00:01\r\u001b[K     |████████████▋                   | 215 kB 13.8 MB/s eta 0:00:01\r\u001b[K     |█████████████▎                  | 225 kB 13.8 MB/s eta 0:00:01\r\u001b[K     |█████████████▉                  | 235 kB 13.8 MB/s eta 0:00:01\r\u001b[K     |██████████████▌                 | 245 kB 13.8 MB/s eta 0:00:01\r\u001b[K     |███████████████                 | 256 kB 13.8 MB/s eta 0:00:01\r\u001b[K     |███████████████▋                | 266 kB 13.8 MB/s eta 0:00:01\r\u001b[K     |████████████████▎               | 276 kB 13.8 MB/s eta 0:00:01\r\u001b[K     |████████████████▉               | 286 kB 13.8 MB/s eta 0:00:01\r\u001b[K     |█████████████████▌              | 296 kB 13.8 MB/s eta 0:00:01\r\u001b[K     |██████████████████              | 307 kB 13.8 MB/s eta 0:00:01\r\u001b[K     |██████████████████▊             | 317 kB 13.8 MB/s eta 0:00:01\r\u001b[K     |███████████████████▎            | 327 kB 13.8 MB/s eta 0:00:01\r\u001b[K     |███████████████████▉            | 337 kB 13.8 MB/s eta 0:00:01\r\u001b[K     |████████████████████▌           | 348 kB 13.8 MB/s eta 0:00:01\r\u001b[K     |█████████████████████           | 358 kB 13.8 MB/s eta 0:00:01\r\u001b[K     |█████████████████████▊          | 368 kB 13.8 MB/s eta 0:00:01\r\u001b[K     |██████████████████████▎         | 378 kB 13.8 MB/s eta 0:00:01\r\u001b[K     |███████████████████████         | 389 kB 13.8 MB/s eta 0:00:01\r\u001b[K     |███████████████████████▌        | 399 kB 13.8 MB/s eta 0:00:01\r\u001b[K     |████████████████████████        | 409 kB 13.8 MB/s eta 0:00:01\r\u001b[K     |████████████████████████▊       | 419 kB 13.8 MB/s eta 0:00:01\r\u001b[K     |█████████████████████████▎      | 430 kB 13.8 MB/s eta 0:00:01\r\u001b[K     |██████████████████████████      | 440 kB 13.8 MB/s eta 0:00:01\r\u001b[K     |██████████████████████████▌     | 450 kB 13.8 MB/s eta 0:00:01\r\u001b[K     |███████████████████████████     | 460 kB 13.8 MB/s eta 0:00:01\r\u001b[K     |███████████████████████████▊    | 471 kB 13.8 MB/s eta 0:00:01\r\u001b[K     |████████████████████████████▎   | 481 kB 13.8 MB/s eta 0:00:01\r\u001b[K     |█████████████████████████████   | 491 kB 13.8 MB/s eta 0:00:01\r\u001b[K     |█████████████████████████████▌  | 501 kB 13.8 MB/s eta 0:00:01\r\u001b[K     |██████████████████████████████▏ | 512 kB 13.8 MB/s eta 0:00:01\r\u001b[K     |██████████████████████████████▊ | 522 kB 13.8 MB/s eta 0:00:01\r\u001b[K     |███████████████████████████████▎| 532 kB 13.8 MB/s eta 0:00:01\r\u001b[K     |████████████████████████████████| 542 kB 13.8 MB/s eta 0:00:01\r\u001b[K     |████████████████████████████████| 544 kB 13.8 MB/s \n",
            "\u001b[?25hRequirement already satisfied: ipython in /usr/local/lib/python3.7/dist-packages (from deeplabcut) (5.5.0)\n",
            "Collecting scikit-image<=0.18.1,>=0.17\n",
            "  Downloading scikit_image-0.18.1-cp37-cp37m-manylinux1_x86_64.whl (29.2 MB)\n",
            "\u001b[K     |████████████████████████████████| 29.2 MB 1.2 MB/s \n",
            "\u001b[?25hRequirement already satisfied: networkx in /usr/local/lib/python3.7/dist-packages (from deeplabcut) (2.6.3)\n",
            "Requirement already satisfied: numpy in /usr/local/lib/python3.7/dist-packages (from deeplabcut) (1.21.5)\n",
            "Requirement already satisfied: scikit-learn in /usr/local/lib/python3.7/dist-packages (from deeplabcut) (1.0.2)\n",
            "Requirement already satisfied: matplotlib in /usr/local/lib/python3.7/dist-packages (from deeplabcut) (3.2.2)\n",
            "Collecting ruamel.yaml>=0.15.0\n",
            "  Downloading ruamel.yaml-0.17.21-py3-none-any.whl (109 kB)\n",
            "\u001b[K     |████████████████████████████████| 109 kB 63.2 MB/s \n",
            "\u001b[?25hRequirement already satisfied: tensorflow>=2.0 in /usr/local/lib/python3.7/dist-packages (from deeplabcut) (2.8.0)\n",
            "Collecting statsmodels>=0.11\n",
            "  Downloading statsmodels-0.13.2-cp37-cp37m-manylinux_2_17_x86_64.manylinux2014_x86_64.whl (9.8 MB)\n",
            "\u001b[K     |████████████████████████████████| 9.8 MB 52.6 MB/s \n",
            "\u001b[?25hRequirement already satisfied: pyyaml in /usr/local/lib/python3.7/dist-packages (from deeplabcut) (3.13)\n",
            "Collecting tf-slim\n",
            "  Downloading tf_slim-1.1.0-py2.py3-none-any.whl (352 kB)\n",
            "\u001b[K     |████████████████████████████████| 352 kB 66.4 MB/s \n",
            "\u001b[?25hRequirement already satisfied: pandas>=1.0.1 in /usr/local/lib/python3.7/dist-packages (from deeplabcut) (1.3.5)\n",
            "Requirement already satisfied: scipy>=1.4 in /usr/local/lib/python3.7/dist-packages (from deeplabcut) (1.4.1)\n",
            "Requirement already satisfied: tqdm in /usr/local/lib/python3.7/dist-packages (from deeplabcut) (4.62.3)\n",
            "Requirement already satisfied: Pillow>=7.1 in /usr/local/lib/python3.7/dist-packages (from deeplabcut) (7.1.2)\n",
            "Requirement already satisfied: moviepy in /usr/local/lib/python3.7/dist-packages (from deeplabcut) (0.2.3.5)\n",
            "Collecting tables<=3.6.1\n",
            "  Downloading tables-3.6.1-cp37-cp37m-manylinux1_x86_64.whl (4.3 MB)\n",
            "\u001b[K     |████████████████████████████████| 4.3 MB 55.8 MB/s \n",
            "\u001b[?25hCollecting imgaug>=0.4.0\n",
            "  Downloading imgaug-0.4.0-py2.py3-none-any.whl (948 kB)\n",
            "\u001b[K     |████████████████████████████████| 948 kB 64.0 MB/s \n",
            "\u001b[?25hCollecting tensorpack\n",
            "  Downloading tensorpack-0.11-py2.py3-none-any.whl (296 kB)\n",
            "\u001b[K     |████████████████████████████████| 296 kB 78.2 MB/s \n",
            "\u001b[?25hRequirement already satisfied: numba in /usr/local/lib/python3.7/dist-packages (from deeplabcut) (0.51.2)\n",
            "Collecting filterpy\n",
            "  Downloading filterpy-1.4.5.zip (177 kB)\n",
            "\u001b[K     |████████████████████████████████| 177 kB 75.8 MB/s \n",
            "\u001b[?25hRequirement already satisfied: Shapely in /usr/local/lib/python3.7/dist-packages (from imgaug>=0.4.0->deeplabcut) (1.8.1)\n",
            "Requirement already satisfied: opencv-python in /usr/local/lib/python3.7/dist-packages (from imgaug>=0.4.0->deeplabcut) (4.1.2.30)\n",
            "Requirement already satisfied: six in /usr/local/lib/python3.7/dist-packages (from imgaug>=0.4.0->deeplabcut) (1.15.0)\n",
            "Requirement already satisfied: imageio in /usr/local/lib/python3.7/dist-packages (from imgaug>=0.4.0->deeplabcut) (2.4.1)\n",
            "Requirement already satisfied: pytz>=2017.3 in /usr/local/lib/python3.7/dist-packages (from pandas>=1.0.1->deeplabcut) (2018.9)\n",
            "Requirement already satisfied: python-dateutil>=2.7.3 in /usr/local/lib/python3.7/dist-packages (from pandas>=1.0.1->deeplabcut) (2.8.2)\n",
            "Collecting ruamel.yaml.clib>=0.2.6\n",
            "  Downloading ruamel.yaml.clib-0.2.6-cp37-cp37m-manylinux1_x86_64.whl (546 kB)\n",
            "\u001b[K     |████████████████████████████████| 546 kB 66.5 MB/s \n",
            "\u001b[?25hRequirement already satisfied: PyWavelets>=1.1.1 in /usr/local/lib/python3.7/dist-packages (from scikit-image<=0.18.1,>=0.17->deeplabcut) (1.2.0)\n",
            "Requirement already satisfied: tifffile>=2019.7.26 in /usr/local/lib/python3.7/dist-packages (from scikit-image<=0.18.1,>=0.17->deeplabcut) (2021.11.2)\n",
            "Requirement already satisfied: kiwisolver>=1.0.1 in /usr/local/lib/python3.7/dist-packages (from matplotlib->deeplabcut) (1.3.2)\n",
            "Requirement already satisfied: pyparsing!=2.0.4,!=2.1.2,!=2.1.6,>=2.0.1 in /usr/local/lib/python3.7/dist-packages (from matplotlib->deeplabcut) (3.0.7)\n",
            "Requirement already satisfied: cycler>=0.10 in /usr/local/lib/python3.7/dist-packages (from matplotlib->deeplabcut) (0.11.0)\n",
            "Requirement already satisfied: patsy>=0.5.2 in /usr/local/lib/python3.7/dist-packages (from statsmodels>=0.11->deeplabcut) (0.5.2)\n",
            "Requirement already satisfied: packaging>=21.3 in /usr/local/lib/python3.7/dist-packages (from statsmodels>=0.11->deeplabcut) (21.3)\n",
            "Requirement already satisfied: numexpr>=2.6.2 in /usr/local/lib/python3.7/dist-packages (from tables<=3.6.1->deeplabcut) (2.8.1)\n",
            "Requirement already satisfied: tensorboard<2.9,>=2.8 in /usr/local/lib/python3.7/dist-packages (from tensorflow>=2.0->deeplabcut) (2.8.0)\n",
            "Requirement already satisfied: gast>=0.2.1 in /usr/local/lib/python3.7/dist-packages (from tensorflow>=2.0->deeplabcut) (0.5.3)\n",
            "Requirement already satisfied: typing-extensions>=3.6.6 in /usr/local/lib/python3.7/dist-packages (from tensorflow>=2.0->deeplabcut) (3.10.0.2)\n",
            "Requirement already satisfied: keras<2.9,>=2.8.0rc0 in /usr/local/lib/python3.7/dist-packages (from tensorflow>=2.0->deeplabcut) (2.8.0)\n",
            "Requirement already satisfied: grpcio<2.0,>=1.24.3 in /usr/local/lib/python3.7/dist-packages (from tensorflow>=2.0->deeplabcut) (1.43.0)\n",
            "Requirement already satisfied: tensorflow-io-gcs-filesystem>=0.23.1 in /usr/local/lib/python3.7/dist-packages (from tensorflow>=2.0->deeplabcut) (0.24.0)\n",
            "Requirement already satisfied: google-pasta>=0.1.1 in /usr/local/lib/python3.7/dist-packages (from tensorflow>=2.0->deeplabcut) (0.2.0)\n",
            "Requirement already satisfied: libclang>=9.0.1 in /usr/local/lib/python3.7/dist-packages (from tensorflow>=2.0->deeplabcut) (13.0.0)\n",
            "Requirement already satisfied: wrapt>=1.11.0 in /usr/local/lib/python3.7/dist-packages (from tensorflow>=2.0->deeplabcut) (1.13.3)\n",
            "Requirement already satisfied: keras-preprocessing>=1.1.1 in /usr/local/lib/python3.7/dist-packages (from tensorflow>=2.0->deeplabcut) (1.1.2)\n",
            "Requirement already satisfied: protobuf>=3.9.2 in /usr/local/lib/python3.7/dist-packages (from tensorflow>=2.0->deeplabcut) (3.17.3)\n",
            "Requirement already satisfied: absl-py>=0.4.0 in /usr/local/lib/python3.7/dist-packages (from tensorflow>=2.0->deeplabcut) (1.0.0)\n",
            "Requirement already satisfied: opt-einsum>=2.3.2 in /usr/local/lib/python3.7/dist-packages (from tensorflow>=2.0->deeplabcut) (3.3.0)\n",
            "Requirement already satisfied: termcolor>=1.1.0 in /usr/local/lib/python3.7/dist-packages (from tensorflow>=2.0->deeplabcut) (1.1.0)\n",
            "Requirement already satisfied: flatbuffers>=1.12 in /usr/local/lib/python3.7/dist-packages (from tensorflow>=2.0->deeplabcut) (2.0)\n",
            "Collecting tf-estimator-nightly==2.8.0.dev2021122109\n",
            "  Downloading tf_estimator_nightly-2.8.0.dev2021122109-py2.py3-none-any.whl (462 kB)\n",
            "\u001b[K     |████████████████████████████████| 462 kB 67.9 MB/s \n",
            "\u001b[?25hRequirement already satisfied: setuptools in /usr/local/lib/python3.7/dist-packages (from tensorflow>=2.0->deeplabcut) (57.4.0)\n",
            "Requirement already satisfied: h5py>=2.9.0 in /usr/local/lib/python3.7/dist-packages (from tensorflow>=2.0->deeplabcut) (3.1.0)\n",
            "Requirement already satisfied: astunparse>=1.6.0 in /usr/local/lib/python3.7/dist-packages (from tensorflow>=2.0->deeplabcut) (1.6.3)\n",
            "Requirement already satisfied: wheel<1.0,>=0.23.0 in /usr/local/lib/python3.7/dist-packages (from astunparse>=1.6.0->tensorflow>=2.0->deeplabcut) (0.37.1)\n",
            "Requirement already satisfied: cached-property in /usr/local/lib/python3.7/dist-packages (from h5py>=2.9.0->tensorflow>=2.0->deeplabcut) (1.5.2)\n",
            "Requirement already satisfied: tensorboard-data-server<0.7.0,>=0.6.0 in /usr/local/lib/python3.7/dist-packages (from tensorboard<2.9,>=2.8->tensorflow>=2.0->deeplabcut) (0.6.1)\n",
            "Requirement already satisfied: werkzeug>=0.11.15 in /usr/local/lib/python3.7/dist-packages (from tensorboard<2.9,>=2.8->tensorflow>=2.0->deeplabcut) (1.0.1)\n",
            "Requirement already satisfied: google-auth<3,>=1.6.3 in /usr/local/lib/python3.7/dist-packages (from tensorboard<2.9,>=2.8->tensorflow>=2.0->deeplabcut) (1.35.0)\n",
            "Requirement already satisfied: markdown>=2.6.8 in /usr/local/lib/python3.7/dist-packages (from tensorboard<2.9,>=2.8->tensorflow>=2.0->deeplabcut) (3.3.6)\n",
            "Requirement already satisfied: requests<3,>=2.21.0 in /usr/local/lib/python3.7/dist-packages (from tensorboard<2.9,>=2.8->tensorflow>=2.0->deeplabcut) (2.23.0)\n",
            "Requirement already satisfied: google-auth-oauthlib<0.5,>=0.4.1 in /usr/local/lib/python3.7/dist-packages (from tensorboard<2.9,>=2.8->tensorflow>=2.0->deeplabcut) (0.4.6)\n",
            "Requirement already satisfied: tensorboard-plugin-wit>=1.6.0 in /usr/local/lib/python3.7/dist-packages (from tensorboard<2.9,>=2.8->tensorflow>=2.0->deeplabcut) (1.8.1)\n",
            "Requirement already satisfied: rsa<5,>=3.1.4 in /usr/local/lib/python3.7/dist-packages (from google-auth<3,>=1.6.3->tensorboard<2.9,>=2.8->tensorflow>=2.0->deeplabcut) (4.8)\n",
            "Requirement already satisfied: cachetools<5.0,>=2.0.0 in /usr/local/lib/python3.7/dist-packages (from google-auth<3,>=1.6.3->tensorboard<2.9,>=2.8->tensorflow>=2.0->deeplabcut) (4.2.4)\n",
            "Requirement already satisfied: pyasn1-modules>=0.2.1 in /usr/local/lib/python3.7/dist-packages (from google-auth<3,>=1.6.3->tensorboard<2.9,>=2.8->tensorflow>=2.0->deeplabcut) (0.2.8)\n",
            "Requirement already satisfied: requests-oauthlib>=0.7.0 in /usr/local/lib/python3.7/dist-packages (from google-auth-oauthlib<0.5,>=0.4.1->tensorboard<2.9,>=2.8->tensorflow>=2.0->deeplabcut) (1.3.1)\n",
            "Requirement already satisfied: importlib-metadata>=4.4 in /usr/local/lib/python3.7/dist-packages (from markdown>=2.6.8->tensorboard<2.9,>=2.8->tensorflow>=2.0->deeplabcut) (4.11.1)\n",
            "Requirement already satisfied: zipp>=0.5 in /usr/local/lib/python3.7/dist-packages (from importlib-metadata>=4.4->markdown>=2.6.8->tensorboard<2.9,>=2.8->tensorflow>=2.0->deeplabcut) (3.7.0)\n",
            "Requirement already satisfied: pyasn1<0.5.0,>=0.4.6 in /usr/local/lib/python3.7/dist-packages (from pyasn1-modules>=0.2.1->google-auth<3,>=1.6.3->tensorboard<2.9,>=2.8->tensorflow>=2.0->deeplabcut) (0.4.8)\n",
            "Requirement already satisfied: urllib3!=1.25.0,!=1.25.1,<1.26,>=1.21.1 in /usr/local/lib/python3.7/dist-packages (from requests<3,>=2.21.0->tensorboard<2.9,>=2.8->tensorflow>=2.0->deeplabcut) (1.24.3)\n",
            "Requirement already satisfied: certifi>=2017.4.17 in /usr/local/lib/python3.7/dist-packages (from requests<3,>=2.21.0->tensorboard<2.9,>=2.8->tensorflow>=2.0->deeplabcut) (2021.10.8)\n",
            "Requirement already satisfied: idna<3,>=2.5 in /usr/local/lib/python3.7/dist-packages (from requests<3,>=2.21.0->tensorboard<2.9,>=2.8->tensorflow>=2.0->deeplabcut) (2.10)\n",
            "Requirement already satisfied: chardet<4,>=3.0.2 in /usr/local/lib/python3.7/dist-packages (from requests<3,>=2.21.0->tensorboard<2.9,>=2.8->tensorflow>=2.0->deeplabcut) (3.0.4)\n",
            "Requirement already satisfied: oauthlib>=3.0.0 in /usr/local/lib/python3.7/dist-packages (from requests-oauthlib>=0.7.0->google-auth-oauthlib<0.5,>=0.4.1->tensorboard<2.9,>=2.8->tensorflow>=2.0->deeplabcut) (3.2.0)\n",
            "Requirement already satisfied: pickleshare in /usr/local/lib/python3.7/dist-packages (from ipython->deeplabcut) (0.7.5)\n",
            "Requirement already satisfied: prompt-toolkit<2.0.0,>=1.0.4 in /usr/local/lib/python3.7/dist-packages (from ipython->deeplabcut) (1.0.18)\n",
            "Requirement already satisfied: decorator in /usr/local/lib/python3.7/dist-packages (from ipython->deeplabcut) (4.4.2)\n",
            "Requirement already satisfied: simplegeneric>0.8 in /usr/local/lib/python3.7/dist-packages (from ipython->deeplabcut) (0.8.1)\n",
            "Requirement already satisfied: pexpect in /usr/local/lib/python3.7/dist-packages (from ipython->deeplabcut) (4.8.0)\n",
            "Requirement already satisfied: pygments in /usr/local/lib/python3.7/dist-packages (from ipython->deeplabcut) (2.6.1)\n",
            "Requirement already satisfied: traitlets>=4.2 in /usr/local/lib/python3.7/dist-packages (from ipython->deeplabcut) (5.1.1)\n",
            "Requirement already satisfied: wcwidth in /usr/local/lib/python3.7/dist-packages (from prompt-toolkit<2.0.0,>=1.0.4->ipython->deeplabcut) (0.2.5)\n",
            "Requirement already satisfied: llvmlite<0.35,>=0.34.0.dev0 in /usr/local/lib/python3.7/dist-packages (from numba->deeplabcut) (0.34.0)\n",
            "Requirement already satisfied: ptyprocess>=0.5 in /usr/local/lib/python3.7/dist-packages (from pexpect->ipython->deeplabcut) (0.7.0)\n",
            "Requirement already satisfied: joblib>=0.11 in /usr/local/lib/python3.7/dist-packages (from scikit-learn->deeplabcut) (1.1.0)\n",
            "Requirement already satisfied: threadpoolctl>=2.0.0 in /usr/local/lib/python3.7/dist-packages (from scikit-learn->deeplabcut) (3.1.0)\n",
            "Collecting msgpack-numpy>=0.4.4.2\n",
            "  Downloading msgpack_numpy-0.4.7.1-py2.py3-none-any.whl (6.7 kB)\n",
            "Requirement already satisfied: psutil>=5 in /usr/local/lib/python3.7/dist-packages (from tensorpack->deeplabcut) (5.4.8)\n",
            "Requirement already satisfied: msgpack>=0.5.2 in /usr/local/lib/python3.7/dist-packages (from tensorpack->deeplabcut) (1.0.3)\n",
            "Requirement already satisfied: tabulate>=0.7.7 in /usr/local/lib/python3.7/dist-packages (from tensorpack->deeplabcut) (0.8.9)\n",
            "Requirement already satisfied: pyzmq>=16 in /usr/local/lib/python3.7/dist-packages (from tensorpack->deeplabcut) (22.3.0)\n",
            "Building wheels for collected packages: filterpy\n",
            "  Building wheel for filterpy (setup.py) ... \u001b[?25l\u001b[?25hdone\n",
            "  Created wheel for filterpy: filename=filterpy-1.4.5-py3-none-any.whl size=110474 sha256=dd5ff1800a9a36d6cc211775a6267ea6068c63ed1a850b84e406d9f1cf0fe30a\n",
            "  Stored in directory: /root/.cache/pip/wheels/ce/e0/ee/a2b3c5caab3418c1ccd8c4de573d4cbe13315d7e8b0a55fbc2\n",
            "Successfully built filterpy\n",
            "Installing collected packages: tf-estimator-nightly, scikit-image, ruamel.yaml.clib, msgpack-numpy, tf-slim, tensorpack, tables, statsmodels, ruamel.yaml, imgaug, filterpy, deeplabcut\n",
            "  Attempting uninstall: scikit-image\n",
            "    Found existing installation: scikit-image 0.18.3\n",
            "    Uninstalling scikit-image-0.18.3:\n",
            "      Successfully uninstalled scikit-image-0.18.3\n",
            "  Attempting uninstall: tables\n",
            "    Found existing installation: tables 3.7.0\n",
            "    Uninstalling tables-3.7.0:\n",
            "      Successfully uninstalled tables-3.7.0\n",
            "  Attempting uninstall: statsmodels\n",
            "    Found existing installation: statsmodels 0.10.2\n",
            "    Uninstalling statsmodels-0.10.2:\n",
            "      Successfully uninstalled statsmodels-0.10.2\n",
            "  Attempting uninstall: imgaug\n",
            "    Found existing installation: imgaug 0.2.9\n",
            "    Uninstalling imgaug-0.2.9:\n",
            "      Successfully uninstalled imgaug-0.2.9\n",
            "\u001b[31mERROR: pip's dependency resolver does not currently take into account all the packages that are installed. This behaviour is the source of the following dependency conflicts.\n",
            "albumentations 0.1.12 requires imgaug<0.2.7,>=0.2.5, but you have imgaug 0.4.0 which is incompatible.\u001b[0m\n",
            "Successfully installed deeplabcut-2.2.0.6 filterpy-1.4.5 imgaug-0.4.0 msgpack-numpy-0.4.7.1 ruamel.yaml-0.17.21 ruamel.yaml.clib-0.2.6 scikit-image-0.18.1 statsmodels-0.13.2 tables-3.6.1 tensorpack-0.11 tf-estimator-nightly-2.8.0.dev2021122109 tf-slim-1.1.0\n"
          ]
        }
      ],
      "source": [
        "#(this will take a few minutes to install all the dependences!)\n",
        "!pip install deeplabcut\n",
        "%reload_ext numpy\n",
        "%reload_ext scipy\n",
        "%reload_ext matplotlib\n",
        "%reload_ext mpl_toolkits"
      ]
    },
    {
      "cell_type": "markdown",
      "source": [
        ""
      ],
      "metadata": {
        "id": "8uh9zxV89EvD"
      }
    },
    {
      "cell_type": "code",
      "metadata": {
        "id": "-MVvZ13_FMvP",
        "colab": {
          "base_uri": "https://localhost:8080/"
        },
        "outputId": "4e8d564a-7bc6-4269-d62b-1c65123cf7ce"
      },
      "source": [
        "#a few colab specific things needed:\n",
        "!pip install --upgrade scikit-image\n",
        "!pip3 install pickle5"
      ],
      "execution_count": 2,
      "outputs": [
        {
          "output_type": "stream",
          "name": "stdout",
          "text": [
            "Requirement already satisfied: scikit-image in /usr/local/lib/python3.7/dist-packages (0.18.1)\n",
            "Collecting scikit-image\n",
            "  Downloading scikit_image-0.19.2-cp37-cp37m-manylinux_2_12_x86_64.manylinux2010_x86_64.whl (13.5 MB)\n",
            "\u001b[K     |████████████████████████████████| 13.5 MB 7.3 MB/s \n",
            "\u001b[?25hRequirement already satisfied: tifffile>=2019.7.26 in /usr/local/lib/python3.7/dist-packages (from scikit-image) (2021.11.2)\n",
            "Requirement already satisfied: numpy>=1.17.0 in /usr/local/lib/python3.7/dist-packages (from scikit-image) (1.21.5)\n",
            "Requirement already satisfied: networkx>=2.2 in /usr/local/lib/python3.7/dist-packages (from scikit-image) (2.6.3)\n",
            "Requirement already satisfied: scipy>=1.4.1 in /usr/local/lib/python3.7/dist-packages (from scikit-image) (1.4.1)\n",
            "Requirement already satisfied: imageio>=2.4.1 in /usr/local/lib/python3.7/dist-packages (from scikit-image) (2.4.1)\n",
            "Requirement already satisfied: PyWavelets>=1.1.1 in /usr/local/lib/python3.7/dist-packages (from scikit-image) (1.2.0)\n",
            "Requirement already satisfied: packaging>=20.0 in /usr/local/lib/python3.7/dist-packages (from scikit-image) (21.3)\n",
            "Requirement already satisfied: pillow!=7.1.0,!=7.1.1,!=8.3.0,>=6.1.0 in /usr/local/lib/python3.7/dist-packages (from scikit-image) (7.1.2)\n",
            "Requirement already satisfied: pyparsing!=3.0.5,>=2.0.2 in /usr/local/lib/python3.7/dist-packages (from packaging>=20.0->scikit-image) (3.0.7)\n",
            "Installing collected packages: scikit-image\n",
            "  Attempting uninstall: scikit-image\n",
            "    Found existing installation: scikit-image 0.18.1\n",
            "    Uninstalling scikit-image-0.18.1:\n",
            "      Successfully uninstalled scikit-image-0.18.1\n",
            "\u001b[31mERROR: pip's dependency resolver does not currently take into account all the packages that are installed. This behaviour is the source of the following dependency conflicts.\n",
            "deeplabcut 2.2.0.6 requires scikit-image<=0.18.1,>=0.17, but you have scikit-image 0.19.2 which is incompatible.\n",
            "albumentations 0.1.12 requires imgaug<0.2.7,>=0.2.5, but you have imgaug 0.4.0 which is incompatible.\u001b[0m\n",
            "Successfully installed scikit-image-0.19.2\n",
            "Collecting pickle5\n",
            "  Downloading pickle5-0.0.12-cp37-cp37m-manylinux_2_5_x86_64.manylinux1_x86_64.whl (256 kB)\n",
            "\u001b[K     |████████████████████████████████| 256 kB 14.9 MB/s \n",
            "\u001b[?25hInstalling collected packages: pickle5\n",
            "Successfully installed pickle5-0.0.12\n"
          ]
        }
      ]
    },
    {
      "cell_type": "markdown",
      "metadata": {
        "id": "bqUEb8TBdpWb"
      },
      "source": [
        "After the package is installed, please click \"restart runtime\" if it appears for DLC changes to take effect in your COLAB environment. You will see this button at the output of the cells above ^."
      ]
    },
    {
      "cell_type": "code",
      "execution_count": 3,
      "metadata": {
        "id": "oTwAcbq2-FZz",
        "colab": {
          "base_uri": "https://localhost:8080/"
        },
        "outputId": "6e81b2cd-2031-4732-e896-6b19e29ee231"
      },
      "outputs": [
        {
          "output_type": "stream",
          "name": "stdout",
          "text": [
            "DLC loaded in light mode; you cannot use any GUI (labeling, relabeling and standalone GUI)\n"
          ]
        },
        {
          "output_type": "stream",
          "name": "stderr",
          "text": [
            "/usr/local/lib/python3.7/dist-packages/skimage/io/manage_plugins.py:23: UserWarning: Your installed pillow version is < 8.1.2. Several security issues (CVE-2021-27921, CVE-2021-25290, CVE-2021-25291, CVE-2021-25293, and more) have been fixed in pillow 8.1.2 or higher. We recommend to upgrade this library.\n",
            "  from .collection import imread_collection_wrapper\n"
          ]
        }
      ],
      "source": [
        "import deeplabcut\n",
        "import pickle5 as pickle"
      ]
    },
    {
      "cell_type": "markdown",
      "metadata": {
        "id": "cQ-nlTkri4HZ"
      },
      "source": [
        "## Link your Google Drive (with your labeled data):\n",
        "\n",
        "- This code assumes you locally installed DeepLabCut, created a project, extracted and labeled frames. Be sure to \"check Labels\" to confirm you are happy with your data. As, these frames are the only thing that is used to train your network. 💪 You can find all the docs to do this here: https://deeplabcut.github.io/DeepLabCut\n",
        "\n",
        "- Next, place your DLC project folder into you Google Drive- i.e., copy the folder named \"Project-YourName-TheDate\" into Google Drive.\n",
        "\n",
        "- Then, click run on the cell below to link this notebook to your Google Drive:"
      ]
    },
    {
      "cell_type": "code",
      "execution_count": 4,
      "metadata": {
        "id": "KS4Q4UkR9rgG",
        "colab": {
          "base_uri": "https://localhost:8080/"
        },
        "outputId": "0446a058-51ef-44f8-c759-ab435a3b3b94"
      },
      "outputs": [
        {
          "output_type": "stream",
          "name": "stdout",
          "text": [
            "Mounted at /content/drive\n"
          ]
        }
      ],
      "source": [
        "#Now, let's link to your Google Drive. Run this cell and follow the authorization instructions:\n",
        "#(We recommend putting a copy of the github repo in your google drive if you are using the demo \"examples\")\n",
        "\n",
        "from google.colab import drive\n",
        "drive.mount('/content/drive')"
      ]
    },
    {
      "cell_type": "markdown",
      "metadata": {
        "id": "Frnj1RVDyEqs"
      },
      "source": [
        "## Next, edit the few items below, and click run:\n"
      ]
    },
    {
      "cell_type": "code",
      "execution_count": 5,
      "metadata": {
        "id": "vhENAlQnFENJ",
        "colab": {
          "base_uri": "https://localhost:8080/",
          "height": 35
        },
        "outputId": "bd0c6a92-d152-4878-97c5-122fc162601b"
      },
      "outputs": [
        {
          "output_type": "execute_result",
          "data": {
            "application/vnd.google.colaboratory.intrinsic+json": {
              "type": "string"
            },
            "text/plain": [
              "'/content/drive/My Drive/Fly_fight_analysis-Ricardo Diaz-Rincon-2022-02-23/config.yaml'"
            ]
          },
          "metadata": {},
          "execution_count": 5
        }
      ],
      "source": [
        "# PLEASE EDIT THIS:\n",
        "ProjectFolderName = 'Fly_fight_analysis-Ricardo Diaz-Rincon-2022-02-23'\n",
        "VideoType = 'mp4' #, mp4, MOV, or avi, whatever you uploaded!\n",
        "\n",
        "\n",
        "# No need to edit this, we are going to assume you put videos you want to analyze in the \"videos\" folder, but if this is NOT true, edit below:\n",
        "videofile_path = ['/content/drive/My Drive/'+ProjectFolderName+'/videos/'] #Enter the list of videos or folder to analyze.\n",
        "videofile_path\n",
        "\n",
        "#No need to edit this, as you set it when you passed the ProjectFolderName (above): \n",
        "path_config_file = '/content/drive/My Drive/'+ProjectFolderName+'/config.yaml'\n",
        "path_config_file\n",
        "#This creates a path variable that links to your google drive project"
      ]
    },
    {
      "cell_type": "markdown",
      "metadata": {
        "id": "xNi9s1dboEJN"
      },
      "source": [
        "## Create a multi-animal training dataset:\n",
        "\n",
        "- more info: https://deeplabcut.github.io/DeepLabCut/docs/maDLC_UserGuide.html#create-training-dataset\n",
        "\n",
        "- please check the text below, edit if needed, and then click run (this can take some time):"
      ]
    },
    {
      "cell_type": "code",
      "execution_count": 7,
      "metadata": {
        "id": "-AAYSoW313me"
      },
      "outputs": [],
      "source": [
        "#OPTIONAL LEARNING: did you know you can check what each function does by running with a ?\n",
        "deeplabcut.create_multianimaltraining_dataset?"
      ]
    },
    {
      "cell_type": "code",
      "execution_count": 6,
      "metadata": {
        "id": "eMeUwgxPoEJP",
        "scrolled": true,
        "colab": {
          "base_uri": "https://localhost:8080/"
        },
        "outputId": "bb006d83-d781-4d1b-b7db-d54d1f136c1d"
      },
      "outputs": [
        {
          "output_type": "stream",
          "name": "stdout",
          "text": [
            "Utilizing the following graph: [[0, 1], [0, 2], [1, 2]]\n",
            "Downloading a ImageNet-pretrained model from http://download.tensorflow.org/models/resnet_v1_50_2016_08_28.tar.gz....\n",
            "Creating training data for: Shuffle: 1 TrainFraction:  0.95\n"
          ]
        },
        {
          "output_type": "stream",
          "name": "stderr",
          "text": [
            "100%|██████████| 38/38 [00:18<00:00,  2.00it/s]\n"
          ]
        },
        {
          "output_type": "stream",
          "name": "stdout",
          "text": [
            "The training dataset is successfully created. Use the function 'train_network' to start training. Happy training!\n"
          ]
        }
      ],
      "source": [
        "# ATTENTION:\n",
        "#which shuffle do you want to create and train?\n",
        "shuffle = 1 #edit if needed; 1 is the default.\n",
        "\n",
        "#if you labeled on Windows, please set the windows2linux=True:\n",
        "deeplabcut.create_multianimaltraining_dataset(path_config_file, Shuffles=[shuffle], net_type=\"dlcrnet_ms5\",windows2linux=False)"
      ]
    },
    {
      "cell_type": "markdown",
      "metadata": {
        "id": "c4FczXGDoEJU"
      },
      "source": [
        "## Start training:\n",
        "This function trains the network for a specific shuffle of the training dataset. \n",
        " - more info: https://deeplabcut.github.io/DeepLabCut/docs/maDLC_UserGuide.html#train-the-network"
      ]
    },
    {
      "cell_type": "code",
      "execution_count": 7,
      "metadata": {
        "id": "_pOvDq_2oEJW",
        "colab": {
          "base_uri": "https://localhost:8080/"
        },
        "outputId": "0645145d-a5c0-4458-d963-449224f9083b"
      },
      "outputs": [
        {
          "output_type": "stream",
          "name": "stderr",
          "text": [
            "Config:\n",
            "{'all_joints': [[0], [1], [2]],\n",
            " 'all_joints_names': ['head', 'left_wing', 'right_wing'],\n",
            " 'alpha_r': 0.02,\n",
            " 'apply_prob': 0.5,\n",
            " 'batch_size': 8,\n",
            " 'clahe': True,\n",
            " 'claheratio': 0.1,\n",
            " 'crop_pad': 0,\n",
            " 'crop_sampling': 'hybrid',\n",
            " 'crop_size': [400, 400],\n",
            " 'cropratio': 0.4,\n",
            " 'dataset': 'training-datasets/iteration-0/UnaugmentedDataSet_Fly_fight_analysisFeb23/Fly_fight_analysis_Ricardo '\n",
            "            'Diaz-Rincon95shuffle1.pickle',\n",
            " 'dataset_type': 'multi-animal-imgaug',\n",
            " 'decay_steps': 30000,\n",
            " 'deterministic': False,\n",
            " 'display_iters': 500,\n",
            " 'edge': False,\n",
            " 'emboss': {'alpha': [0.0, 1.0], 'embossratio': 0.1, 'strength': [0.5, 1.5]},\n",
            " 'fg_fraction': 0.25,\n",
            " 'global_scale': 0.8,\n",
            " 'histeq': True,\n",
            " 'histeqratio': 0.1,\n",
            " 'init_weights': '/usr/local/lib/python3.7/dist-packages/deeplabcut/pose_estimation_tensorflow/models/pretrained/resnet_v1_50.ckpt',\n",
            " 'intermediate_supervision': False,\n",
            " 'intermediate_supervision_layer': 12,\n",
            " 'location_refinement': True,\n",
            " 'locref_huber_loss': True,\n",
            " 'locref_loss_weight': 0.05,\n",
            " 'locref_stdev': 7.2801,\n",
            " 'log_dir': 'log',\n",
            " 'lr_init': 0.0005,\n",
            " 'max_input_size': 1500,\n",
            " 'max_shift': 0.4,\n",
            " 'mean_pixel': [123.68, 116.779, 103.939],\n",
            " 'metadataset': 'training-datasets/iteration-0/UnaugmentedDataSet_Fly_fight_analysisFeb23/Documentation_data-Fly_fight_analysis_95shuffle1.pickle',\n",
            " 'min_input_size': 64,\n",
            " 'mirror': False,\n",
            " 'multi_stage': True,\n",
            " 'multi_step': [[0.0001, 7500], [5e-05, 12000], [1e-05, 200000]],\n",
            " 'net_type': 'resnet_50',\n",
            " 'num_idchannel': 0,\n",
            " 'num_joints': 3,\n",
            " 'num_limbs': 3,\n",
            " 'optimizer': 'adam',\n",
            " 'pafwidth': 20,\n",
            " 'pairwise_huber_loss': False,\n",
            " 'pairwise_loss_weight': 0.1,\n",
            " 'pairwise_predict': False,\n",
            " 'partaffinityfield_graph': [[0, 1], [0, 2], [1, 2]],\n",
            " 'partaffinityfield_predict': True,\n",
            " 'pos_dist_thresh': 17,\n",
            " 'pre_resize': [],\n",
            " 'project_path': '/content/drive/My Drive/Fly_fight_analysis-Ricardo '\n",
            "                 'Diaz-Rincon-2022-02-23',\n",
            " 'regularize': False,\n",
            " 'rotation': 25,\n",
            " 'rotratio': 0.4,\n",
            " 'save_iters': 10000,\n",
            " 'scale_jitter_lo': 0.5,\n",
            " 'scale_jitter_up': 1.25,\n",
            " 'scoremap_dir': 'test',\n",
            " 'sharpen': False,\n",
            " 'sharpenratio': 0.3,\n",
            " 'shuffle': True,\n",
            " 'snapshot_prefix': '/content/drive/My Drive/Fly_fight_analysis-Ricardo '\n",
            "                    'Diaz-Rincon-2022-02-23/dlc-models/iteration-0/Fly_fight_analysisFeb23-trainset95shuffle1/train/snapshot',\n",
            " 'stride': 8.0,\n",
            " 'weigh_negatives': False,\n",
            " 'weigh_only_present_joints': False,\n",
            " 'weigh_part_predictions': False,\n",
            " 'weight_decay': 0.0001}\n"
          ]
        },
        {
          "output_type": "stream",
          "name": "stdout",
          "text": [
            "Selecting multi-animal trainer\n",
            "Activating limb prediction...\n",
            "Batch Size is 8\n",
            "Getting specs multi-animal-imgaug 3 3\n"
          ]
        },
        {
          "output_type": "stream",
          "name": "stderr",
          "text": [
            "/usr/local/lib/python3.7/dist-packages/tensorflow/python/keras/engine/base_layer_v1.py:1694: UserWarning: `layer.apply` is deprecated and will be removed in a future version. Please use `layer.__call__` method instead.\n",
            "  warnings.warn('`layer.apply` is deprecated and '\n",
            "/usr/local/lib/python3.7/dist-packages/tf_slim/layers/layers.py:684: UserWarning: `layer.apply` is deprecated and will be removed in a future version. Please use `layer.__call__` method instead.\n",
            "  outputs = layer.apply(inputs, training=is_training)\n"
          ]
        },
        {
          "output_type": "stream",
          "name": "stdout",
          "text": [
            "Loading ImageNet-pretrained resnet_50\n",
            "Max_iters overwritten as 50000\n",
            "Display_iters overwritten as 100\n",
            "Save_iters overwritten as 10000\n",
            "Training parameters:\n",
            "{'stride': 8.0, 'weigh_part_predictions': False, 'weigh_negatives': False, 'fg_fraction': 0.25, 'mean_pixel': [123.68, 116.779, 103.939], 'shuffle': True, 'snapshot_prefix': '/content/drive/My Drive/Fly_fight_analysis-Ricardo Diaz-Rincon-2022-02-23/dlc-models/iteration-0/Fly_fight_analysisFeb23-trainset95shuffle1/train/snapshot', 'log_dir': 'log', 'global_scale': 0.8, 'location_refinement': True, 'locref_stdev': 7.2801, 'locref_loss_weight': 0.05, 'locref_huber_loss': True, 'optimizer': 'adam', 'intermediate_supervision': False, 'intermediate_supervision_layer': 12, 'regularize': False, 'weight_decay': 0.0001, 'crop_pad': 0, 'scoremap_dir': 'test', 'batch_size': 8, 'dataset_type': 'multi-animal-imgaug', 'deterministic': False, 'mirror': False, 'pairwise_huber_loss': False, 'weigh_only_present_joints': False, 'partaffinityfield_predict': True, 'pairwise_predict': True, 'all_joints': [[0], [1], [2]], 'all_joints_names': ['head', 'left_wing', 'right_wing'], 'alpha_r': 0.02, 'apply_prob': 0.5, 'clahe': True, 'claheratio': 0.1, 'crop_sampling': 'hybrid', 'crop_size': [400, 400], 'cropratio': 0.4, 'dataset': 'training-datasets/iteration-0/UnaugmentedDataSet_Fly_fight_analysisFeb23/Fly_fight_analysis_Ricardo Diaz-Rincon95shuffle1.pickle', 'decay_steps': 30000, 'display_iters': 500, 'edge': False, 'emboss': {'alpha': [0.0, 1.0], 'embossratio': 0.1, 'strength': [0.5, 1.5]}, 'histeq': True, 'histeqratio': 0.1, 'init_weights': '/usr/local/lib/python3.7/dist-packages/deeplabcut/pose_estimation_tensorflow/models/pretrained/resnet_v1_50.ckpt', 'lr_init': 0.0005, 'max_input_size': 1500, 'max_shift': 0.4, 'metadataset': 'training-datasets/iteration-0/UnaugmentedDataSet_Fly_fight_analysisFeb23/Documentation_data-Fly_fight_analysis_95shuffle1.pickle', 'min_input_size': 64, 'multi_stage': True, 'multi_step': [[0.0001, 7500], [5e-05, 12000], [1e-05, 200000]], 'net_type': 'resnet_50', 'num_idchannel': 0, 'num_joints': 3, 'num_limbs': 3, 'pafwidth': 20, 'pairwise_loss_weight': 0.1, 'partaffinityfield_graph': [[0, 1], [0, 2], [1, 2]], 'pos_dist_thresh': 17, 'pre_resize': [], 'project_path': '/content/drive/My Drive/Fly_fight_analysis-Ricardo Diaz-Rincon-2022-02-23', 'rotation': 25, 'rotratio': 0.4, 'save_iters': 10000, 'scale_jitter_lo': 0.5, 'scale_jitter_up': 1.25, 'sharpen': False, 'sharpenratio': 0.3}\n",
            "Starting multi-animal training....\n"
          ]
        },
        {
          "output_type": "stream",
          "name": "stderr",
          "text": [
            "iteration: 100 loss: 0.0584 scmap loss: 0.0461 locref loss: 0.0028 limb loss: 0.0094 lr: 0.0001\n",
            "iteration: 200 loss: 0.0186 scmap loss: 0.0164 locref loss: 0.0005 limb loss: 0.0016 lr: 0.0001\n",
            "iteration: 300 loss: 0.0129 scmap loss: 0.0113 locref loss: 0.0004 limb loss: 0.0012 lr: 0.0001\n",
            "iteration: 400 loss: 0.0111 scmap loss: 0.0098 locref loss: 0.0003 limb loss: 0.0010 lr: 0.0001\n",
            "iteration: 500 loss: 0.0098 scmap loss: 0.0087 locref loss: 0.0003 limb loss: 0.0008 lr: 0.0001\n",
            "iteration: 600 loss: 0.0086 scmap loss: 0.0076 locref loss: 0.0003 limb loss: 0.0007 lr: 0.0001\n",
            "iteration: 700 loss: 0.0079 scmap loss: 0.0070 locref loss: 0.0002 limb loss: 0.0007 lr: 0.0001\n",
            "iteration: 800 loss: 0.0076 scmap loss: 0.0068 locref loss: 0.0002 limb loss: 0.0006 lr: 0.0001\n",
            "iteration: 900 loss: 0.0079 scmap loss: 0.0071 locref loss: 0.0002 limb loss: 0.0006 lr: 0.0001\n",
            "iteration: 1000 loss: 0.0071 scmap loss: 0.0063 locref loss: 0.0002 limb loss: 0.0005 lr: 0.0001\n",
            "iteration: 1100 loss: 0.0067 scmap loss: 0.0061 locref loss: 0.0002 limb loss: 0.0005 lr: 0.0001\n",
            "iteration: 1200 loss: 0.0070 scmap loss: 0.0063 locref loss: 0.0002 limb loss: 0.0005 lr: 0.0001\n",
            "iteration: 1300 loss: 0.0068 scmap loss: 0.0061 locref loss: 0.0002 limb loss: 0.0005 lr: 0.0001\n",
            "iteration: 1400 loss: 0.0061 scmap loss: 0.0055 locref loss: 0.0002 limb loss: 0.0005 lr: 0.0001\n",
            "iteration: 1500 loss: 0.0058 scmap loss: 0.0052 locref loss: 0.0002 limb loss: 0.0004 lr: 0.0001\n",
            "iteration: 1600 loss: 0.0059 scmap loss: 0.0053 locref loss: 0.0002 limb loss: 0.0004 lr: 0.0001\n",
            "iteration: 1700 loss: 0.0059 scmap loss: 0.0053 locref loss: 0.0001 limb loss: 0.0004 lr: 0.0001\n",
            "iteration: 1800 loss: 0.0060 scmap loss: 0.0056 locref loss: 0.0001 limb loss: 0.0003 lr: 0.0001\n",
            "iteration: 1900 loss: 0.0057 scmap loss: 0.0052 locref loss: 0.0001 limb loss: 0.0003 lr: 0.0001\n",
            "iteration: 2000 loss: 0.0057 scmap loss: 0.0052 locref loss: 0.0001 limb loss: 0.0004 lr: 0.0001\n",
            "iteration: 2100 loss: 0.0054 scmap loss: 0.0049 locref loss: 0.0001 limb loss: 0.0003 lr: 0.0001\n",
            "iteration: 2200 loss: 0.0054 scmap loss: 0.0049 locref loss: 0.0001 limb loss: 0.0004 lr: 0.0001\n",
            "iteration: 2300 loss: 0.0054 scmap loss: 0.0050 locref loss: 0.0001 limb loss: 0.0003 lr: 0.0001\n",
            "iteration: 2400 loss: 0.0053 scmap loss: 0.0049 locref loss: 0.0001 limb loss: 0.0003 lr: 0.0001\n",
            "iteration: 2500 loss: 0.0054 scmap loss: 0.0050 locref loss: 0.0001 limb loss: 0.0003 lr: 0.0001\n",
            "iteration: 2600 loss: 0.0055 scmap loss: 0.0051 locref loss: 0.0001 limb loss: 0.0003 lr: 0.0001\n",
            "iteration: 2700 loss: 0.0055 scmap loss: 0.0051 locref loss: 0.0001 limb loss: 0.0003 lr: 0.0001\n",
            "iteration: 2800 loss: 0.0052 scmap loss: 0.0048 locref loss: 0.0001 limb loss: 0.0003 lr: 0.0001\n",
            "iteration: 2900 loss: 0.0051 scmap loss: 0.0047 locref loss: 0.0001 limb loss: 0.0002 lr: 0.0001\n",
            "iteration: 3000 loss: 0.0049 scmap loss: 0.0045 locref loss: 0.0001 limb loss: 0.0003 lr: 0.0001\n",
            "iteration: 3100 loss: 0.0051 scmap loss: 0.0047 locref loss: 0.0001 limb loss: 0.0003 lr: 0.0001\n",
            "iteration: 3200 loss: 0.0051 scmap loss: 0.0047 locref loss: 0.0001 limb loss: 0.0003 lr: 0.0001\n",
            "iteration: 3300 loss: 0.0049 scmap loss: 0.0046 locref loss: 0.0001 limb loss: 0.0002 lr: 0.0001\n",
            "iteration: 3400 loss: 0.0046 scmap loss: 0.0043 locref loss: 0.0001 limb loss: 0.0002 lr: 0.0001\n",
            "iteration: 3500 loss: 0.0049 scmap loss: 0.0045 locref loss: 0.0001 limb loss: 0.0003 lr: 0.0001\n",
            "iteration: 3600 loss: 0.0048 scmap loss: 0.0045 locref loss: 0.0001 limb loss: 0.0002 lr: 0.0001\n",
            "iteration: 3700 loss: 0.0048 scmap loss: 0.0045 locref loss: 0.0001 limb loss: 0.0002 lr: 0.0001\n",
            "iteration: 3800 loss: 0.0048 scmap loss: 0.0045 locref loss: 0.0001 limb loss: 0.0002 lr: 0.0001\n",
            "iteration: 3900 loss: 0.0048 scmap loss: 0.0044 locref loss: 0.0001 limb loss: 0.0003 lr: 0.0001\n",
            "iteration: 4000 loss: 0.0049 scmap loss: 0.0045 locref loss: 0.0001 limb loss: 0.0003 lr: 0.0001\n",
            "iteration: 4100 loss: 0.0048 scmap loss: 0.0045 locref loss: 0.0001 limb loss: 0.0002 lr: 0.0001\n",
            "iteration: 4200 loss: 0.0050 scmap loss: 0.0047 locref loss: 0.0001 limb loss: 0.0002 lr: 0.0001\n",
            "iteration: 4300 loss: 0.0049 scmap loss: 0.0046 locref loss: 0.0001 limb loss: 0.0002 lr: 0.0001\n",
            "iteration: 4400 loss: 0.0047 scmap loss: 0.0044 locref loss: 0.0001 limb loss: 0.0002 lr: 0.0001\n",
            "iteration: 4500 loss: 0.0045 scmap loss: 0.0042 locref loss: 0.0001 limb loss: 0.0002 lr: 0.0001\n",
            "iteration: 4600 loss: 0.0043 scmap loss: 0.0040 locref loss: 0.0001 limb loss: 0.0002 lr: 0.0001\n",
            "iteration: 4700 loss: 0.0048 scmap loss: 0.0045 locref loss: 0.0001 limb loss: 0.0002 lr: 0.0001\n",
            "iteration: 4800 loss: 0.0047 scmap loss: 0.0044 locref loss: 0.0001 limb loss: 0.0002 lr: 0.0001\n",
            "iteration: 4900 loss: 0.0046 scmap loss: 0.0043 locref loss: 0.0001 limb loss: 0.0002 lr: 0.0001\n",
            "iteration: 5000 loss: 0.0045 scmap loss: 0.0043 locref loss: 0.0001 limb loss: 0.0002 lr: 0.0001\n",
            "iteration: 5100 loss: 0.0045 scmap loss: 0.0043 locref loss: 0.0001 limb loss: 0.0002 lr: 0.0001\n",
            "iteration: 5200 loss: 0.0042 scmap loss: 0.0040 locref loss: 0.0001 limb loss: 0.0002 lr: 0.0001\n",
            "iteration: 5300 loss: 0.0044 scmap loss: 0.0042 locref loss: 0.0001 limb loss: 0.0002 lr: 0.0001\n",
            "iteration: 5400 loss: 0.0043 scmap loss: 0.0040 locref loss: 0.0001 limb loss: 0.0002 lr: 0.0001\n",
            "iteration: 5500 loss: 0.0041 scmap loss: 0.0039 locref loss: 0.0001 limb loss: 0.0002 lr: 0.0001\n",
            "iteration: 5600 loss: 0.0045 scmap loss: 0.0042 locref loss: 0.0001 limb loss: 0.0002 lr: 0.0001\n",
            "iteration: 5700 loss: 0.0046 scmap loss: 0.0043 locref loss: 0.0001 limb loss: 0.0002 lr: 0.0001\n",
            "iteration: 5800 loss: 0.0043 scmap loss: 0.0041 locref loss: 0.0001 limb loss: 0.0002 lr: 0.0001\n",
            "iteration: 5900 loss: 0.0044 scmap loss: 0.0041 locref loss: 0.0001 limb loss: 0.0002 lr: 0.0001\n",
            "iteration: 6000 loss: 0.0045 scmap loss: 0.0043 locref loss: 0.0001 limb loss: 0.0002 lr: 0.0001\n",
            "iteration: 6100 loss: 0.0045 scmap loss: 0.0042 locref loss: 0.0001 limb loss: 0.0002 lr: 0.0001\n",
            "iteration: 6200 loss: 0.0042 scmap loss: 0.0040 locref loss: 0.0001 limb loss: 0.0002 lr: 0.0001\n",
            "iteration: 6300 loss: 0.0045 scmap loss: 0.0042 locref loss: 0.0001 limb loss: 0.0002 lr: 0.0001\n",
            "iteration: 6400 loss: 0.0041 scmap loss: 0.0039 locref loss: 0.0001 limb loss: 0.0002 lr: 0.0001\n",
            "iteration: 6500 loss: 0.0046 scmap loss: 0.0044 locref loss: 0.0001 limb loss: 0.0002 lr: 0.0001\n",
            "iteration: 6600 loss: 0.0042 scmap loss: 0.0040 locref loss: 0.0001 limb loss: 0.0002 lr: 0.0001\n",
            "iteration: 6700 loss: 0.0040 scmap loss: 0.0037 locref loss: 0.0001 limb loss: 0.0002 lr: 0.0001\n",
            "iteration: 6800 loss: 0.0043 scmap loss: 0.0041 locref loss: 0.0001 limb loss: 0.0002 lr: 0.0001\n",
            "iteration: 6900 loss: 0.0043 scmap loss: 0.0040 locref loss: 0.0001 limb loss: 0.0002 lr: 0.0001\n",
            "iteration: 7000 loss: 0.0044 scmap loss: 0.0042 locref loss: 0.0001 limb loss: 0.0002 lr: 0.0001\n",
            "iteration: 7100 loss: 0.0040 scmap loss: 0.0038 locref loss: 0.0001 limb loss: 0.0001 lr: 0.0001\n",
            "iteration: 7200 loss: 0.0043 scmap loss: 0.0040 locref loss: 0.0001 limb loss: 0.0002 lr: 0.0001\n",
            "iteration: 7300 loss: 0.0039 scmap loss: 0.0037 locref loss: 0.0001 limb loss: 0.0002 lr: 0.0001\n",
            "iteration: 7400 loss: 0.0042 scmap loss: 0.0039 locref loss: 0.0001 limb loss: 0.0002 lr: 0.0001\n",
            "iteration: 7500 loss: 0.0040 scmap loss: 0.0038 locref loss: 0.0001 limb loss: 0.0002 lr: 0.0001\n",
            "iteration: 7600 loss: 0.0039 scmap loss: 0.0037 locref loss: 0.0001 limb loss: 0.0001 lr: 5e-05\n",
            "iteration: 7700 loss: 0.0037 scmap loss: 0.0035 locref loss: 0.0001 limb loss: 0.0001 lr: 5e-05\n",
            "iteration: 7800 loss: 0.0034 scmap loss: 0.0033 locref loss: 0.0001 limb loss: 0.0001 lr: 5e-05\n",
            "iteration: 7900 loss: 0.0037 scmap loss: 0.0035 locref loss: 0.0001 limb loss: 0.0001 lr: 5e-05\n",
            "iteration: 8000 loss: 0.0039 scmap loss: 0.0037 locref loss: 0.0001 limb loss: 0.0001 lr: 5e-05\n",
            "iteration: 8100 loss: 0.0036 scmap loss: 0.0034 locref loss: 0.0001 limb loss: 0.0001 lr: 5e-05\n",
            "iteration: 8200 loss: 0.0036 scmap loss: 0.0034 locref loss: 0.0001 limb loss: 0.0001 lr: 5e-05\n",
            "iteration: 8300 loss: 0.0037 scmap loss: 0.0035 locref loss: 0.0001 limb loss: 0.0001 lr: 5e-05\n",
            "iteration: 8400 loss: 0.0035 scmap loss: 0.0033 locref loss: 0.0001 limb loss: 0.0001 lr: 5e-05\n",
            "iteration: 8500 loss: 0.0038 scmap loss: 0.0036 locref loss: 0.0001 limb loss: 0.0001 lr: 5e-05\n",
            "iteration: 8600 loss: 0.0039 scmap loss: 0.0037 locref loss: 0.0001 limb loss: 0.0001 lr: 5e-05\n",
            "iteration: 8700 loss: 0.0037 scmap loss: 0.0035 locref loss: 0.0001 limb loss: 0.0001 lr: 5e-05\n",
            "iteration: 8800 loss: 0.0036 scmap loss: 0.0034 locref loss: 0.0001 limb loss: 0.0001 lr: 5e-05\n",
            "iteration: 8900 loss: 0.0037 scmap loss: 0.0035 locref loss: 0.0001 limb loss: 0.0001 lr: 5e-05\n",
            "iteration: 9000 loss: 0.0035 scmap loss: 0.0033 locref loss: 0.0001 limb loss: 0.0001 lr: 5e-05\n",
            "iteration: 9100 loss: 0.0036 scmap loss: 0.0034 locref loss: 0.0001 limb loss: 0.0001 lr: 5e-05\n",
            "iteration: 9200 loss: 0.0036 scmap loss: 0.0034 locref loss: 0.0001 limb loss: 0.0001 lr: 5e-05\n",
            "iteration: 9300 loss: 0.0037 scmap loss: 0.0035 locref loss: 0.0001 limb loss: 0.0001 lr: 5e-05\n",
            "iteration: 9400 loss: 0.0037 scmap loss: 0.0036 locref loss: 0.0001 limb loss: 0.0001 lr: 5e-05\n",
            "iteration: 9500 loss: 0.0034 scmap loss: 0.0032 locref loss: 0.0001 limb loss: 0.0001 lr: 5e-05\n",
            "iteration: 9600 loss: 0.0036 scmap loss: 0.0034 locref loss: 0.0001 limb loss: 0.0001 lr: 5e-05\n",
            "iteration: 9700 loss: 0.0034 scmap loss: 0.0032 locref loss: 0.0001 limb loss: 0.0001 lr: 5e-05\n",
            "iteration: 9800 loss: 0.0034 scmap loss: 0.0033 locref loss: 0.0001 limb loss: 0.0001 lr: 5e-05\n",
            "iteration: 9900 loss: 0.0034 scmap loss: 0.0032 locref loss: 0.0001 limb loss: 0.0001 lr: 5e-05\n",
            "iteration: 10000 loss: 0.0034 scmap loss: 0.0032 locref loss: 0.0001 limb loss: 0.0001 lr: 5e-05\n",
            "iteration: 10100 loss: 0.0035 scmap loss: 0.0034 locref loss: 0.0001 limb loss: 0.0001 lr: 5e-05\n",
            "iteration: 10200 loss: 0.0036 scmap loss: 0.0034 locref loss: 0.0001 limb loss: 0.0001 lr: 5e-05\n",
            "iteration: 10300 loss: 0.0036 scmap loss: 0.0034 locref loss: 0.0001 limb loss: 0.0001 lr: 5e-05\n",
            "iteration: 10400 loss: 0.0036 scmap loss: 0.0034 locref loss: 0.0001 limb loss: 0.0001 lr: 5e-05\n",
            "iteration: 10500 loss: 0.0035 scmap loss: 0.0033 locref loss: 0.0001 limb loss: 0.0001 lr: 5e-05\n",
            "iteration: 10600 loss: 0.0033 scmap loss: 0.0031 locref loss: 0.0001 limb loss: 0.0001 lr: 5e-05\n",
            "iteration: 10700 loss: 0.0037 scmap loss: 0.0035 locref loss: 0.0001 limb loss: 0.0001 lr: 5e-05\n",
            "iteration: 10800 loss: 0.0034 scmap loss: 0.0032 locref loss: 0.0001 limb loss: 0.0001 lr: 5e-05\n",
            "iteration: 10900 loss: 0.0035 scmap loss: 0.0033 locref loss: 0.0001 limb loss: 0.0001 lr: 5e-05\n",
            "iteration: 11000 loss: 0.0033 scmap loss: 0.0032 locref loss: 0.0001 limb loss: 0.0001 lr: 5e-05\n",
            "iteration: 11100 loss: 0.0034 scmap loss: 0.0033 locref loss: 0.0001 limb loss: 0.0001 lr: 5e-05\n",
            "iteration: 11200 loss: 0.0035 scmap loss: 0.0033 locref loss: 0.0001 limb loss: 0.0001 lr: 5e-05\n",
            "iteration: 11300 loss: 0.0034 scmap loss: 0.0033 locref loss: 0.0001 limb loss: 0.0001 lr: 5e-05\n",
            "iteration: 11400 loss: 0.0035 scmap loss: 0.0033 locref loss: 0.0001 limb loss: 0.0001 lr: 5e-05\n",
            "iteration: 11500 loss: 0.0035 scmap loss: 0.0033 locref loss: 0.0001 limb loss: 0.0001 lr: 5e-05\n",
            "iteration: 11600 loss: 0.0035 scmap loss: 0.0033 locref loss: 0.0001 limb loss: 0.0001 lr: 5e-05\n",
            "iteration: 11700 loss: 0.0034 scmap loss: 0.0032 locref loss: 0.0001 limb loss: 0.0001 lr: 5e-05\n",
            "iteration: 11800 loss: 0.0035 scmap loss: 0.0034 locref loss: 0.0001 limb loss: 0.0001 lr: 5e-05\n",
            "iteration: 11900 loss: 0.0034 scmap loss: 0.0032 locref loss: 0.0001 limb loss: 0.0001 lr: 5e-05\n",
            "iteration: 12000 loss: 0.0035 scmap loss: 0.0033 locref loss: 0.0000 limb loss: 0.0001 lr: 5e-05\n",
            "iteration: 12100 loss: 0.0033 scmap loss: 0.0031 locref loss: 0.0001 limb loss: 0.0001 lr: 1e-05\n",
            "iteration: 12200 loss: 0.0033 scmap loss: 0.0032 locref loss: 0.0001 limb loss: 0.0001 lr: 1e-05\n",
            "iteration: 12300 loss: 0.0031 scmap loss: 0.0029 locref loss: 0.0000 limb loss: 0.0001 lr: 1e-05\n",
            "iteration: 12400 loss: 0.0029 scmap loss: 0.0027 locref loss: 0.0000 limb loss: 0.0001 lr: 1e-05\n",
            "iteration: 12500 loss: 0.0030 scmap loss: 0.0029 locref loss: 0.0000 limb loss: 0.0001 lr: 1e-05\n",
            "iteration: 12600 loss: 0.0031 scmap loss: 0.0029 locref loss: 0.0000 limb loss: 0.0001 lr: 1e-05\n",
            "iteration: 12700 loss: 0.0032 scmap loss: 0.0031 locref loss: 0.0001 limb loss: 0.0001 lr: 1e-05\n",
            "iteration: 12800 loss: 0.0031 scmap loss: 0.0029 locref loss: 0.0001 limb loss: 0.0001 lr: 1e-05\n",
            "iteration: 12900 loss: 0.0031 scmap loss: 0.0029 locref loss: 0.0000 limb loss: 0.0001 lr: 1e-05\n",
            "iteration: 13000 loss: 0.0032 scmap loss: 0.0030 locref loss: 0.0001 limb loss: 0.0001 lr: 1e-05\n",
            "iteration: 13100 loss: 0.0031 scmap loss: 0.0029 locref loss: 0.0000 limb loss: 0.0001 lr: 1e-05\n",
            "iteration: 13200 loss: 0.0033 scmap loss: 0.0031 locref loss: 0.0001 limb loss: 0.0001 lr: 1e-05\n",
            "iteration: 13300 loss: 0.0029 scmap loss: 0.0028 locref loss: 0.0001 limb loss: 0.0001 lr: 1e-05\n",
            "iteration: 13400 loss: 0.0031 scmap loss: 0.0029 locref loss: 0.0001 limb loss: 0.0001 lr: 1e-05\n",
            "iteration: 13500 loss: 0.0031 scmap loss: 0.0029 locref loss: 0.0001 limb loss: 0.0001 lr: 1e-05\n",
            "iteration: 13600 loss: 0.0031 scmap loss: 0.0030 locref loss: 0.0001 limb loss: 0.0001 lr: 1e-05\n",
            "iteration: 13700 loss: 0.0029 scmap loss: 0.0028 locref loss: 0.0000 limb loss: 0.0001 lr: 1e-05\n",
            "iteration: 13800 loss: 0.0030 scmap loss: 0.0028 locref loss: 0.0000 limb loss: 0.0001 lr: 1e-05\n",
            "iteration: 13900 loss: 0.0031 scmap loss: 0.0029 locref loss: 0.0000 limb loss: 0.0001 lr: 1e-05\n",
            "iteration: 14000 loss: 0.0030 scmap loss: 0.0028 locref loss: 0.0000 limb loss: 0.0001 lr: 1e-05\n",
            "iteration: 14100 loss: 0.0028 scmap loss: 0.0027 locref loss: 0.0001 limb loss: 0.0001 lr: 1e-05\n",
            "iteration: 14200 loss: 0.0030 scmap loss: 0.0028 locref loss: 0.0000 limb loss: 0.0001 lr: 1e-05\n",
            "iteration: 14300 loss: 0.0030 scmap loss: 0.0028 locref loss: 0.0001 limb loss: 0.0001 lr: 1e-05\n",
            "iteration: 14400 loss: 0.0030 scmap loss: 0.0028 locref loss: 0.0000 limb loss: 0.0001 lr: 1e-05\n",
            "iteration: 14500 loss: 0.0030 scmap loss: 0.0028 locref loss: 0.0000 limb loss: 0.0001 lr: 1e-05\n",
            "iteration: 14600 loss: 0.0030 scmap loss: 0.0028 locref loss: 0.0001 limb loss: 0.0001 lr: 1e-05\n",
            "iteration: 14700 loss: 0.0030 scmap loss: 0.0029 locref loss: 0.0000 limb loss: 0.0001 lr: 1e-05\n",
            "iteration: 14800 loss: 0.0028 scmap loss: 0.0027 locref loss: 0.0000 limb loss: 0.0001 lr: 1e-05\n",
            "iteration: 14900 loss: 0.0031 scmap loss: 0.0029 locref loss: 0.0000 limb loss: 0.0001 lr: 1e-05\n",
            "iteration: 15000 loss: 0.0030 scmap loss: 0.0029 locref loss: 0.0000 limb loss: 0.0001 lr: 1e-05\n",
            "iteration: 15100 loss: 0.0030 scmap loss: 0.0028 locref loss: 0.0000 limb loss: 0.0001 lr: 1e-05\n",
            "iteration: 15200 loss: 0.0030 scmap loss: 0.0028 locref loss: 0.0000 limb loss: 0.0001 lr: 1e-05\n",
            "iteration: 15300 loss: 0.0029 scmap loss: 0.0028 locref loss: 0.0000 limb loss: 0.0001 lr: 1e-05\n",
            "iteration: 15400 loss: 0.0029 scmap loss: 0.0027 locref loss: 0.0000 limb loss: 0.0001 lr: 1e-05\n",
            "iteration: 15500 loss: 0.0032 scmap loss: 0.0030 locref loss: 0.0001 limb loss: 0.0001 lr: 1e-05\n",
            "iteration: 15600 loss: 0.0030 scmap loss: 0.0029 locref loss: 0.0000 limb loss: 0.0001 lr: 1e-05\n",
            "iteration: 15700 loss: 0.0029 scmap loss: 0.0027 locref loss: 0.0001 limb loss: 0.0001 lr: 1e-05\n",
            "iteration: 15800 loss: 0.0029 scmap loss: 0.0028 locref loss: 0.0000 limb loss: 0.0001 lr: 1e-05\n",
            "iteration: 15900 loss: 0.0029 scmap loss: 0.0028 locref loss: 0.0000 limb loss: 0.0001 lr: 1e-05\n",
            "iteration: 16000 loss: 0.0030 scmap loss: 0.0029 locref loss: 0.0000 limb loss: 0.0001 lr: 1e-05\n",
            "iteration: 16100 loss: 0.0029 scmap loss: 0.0028 locref loss: 0.0000 limb loss: 0.0001 lr: 1e-05\n",
            "iteration: 16200 loss: 0.0029 scmap loss: 0.0027 locref loss: 0.0000 limb loss: 0.0001 lr: 1e-05\n",
            "iteration: 16300 loss: 0.0030 scmap loss: 0.0029 locref loss: 0.0000 limb loss: 0.0001 lr: 1e-05\n",
            "iteration: 16400 loss: 0.0030 scmap loss: 0.0029 locref loss: 0.0000 limb loss: 0.0001 lr: 1e-05\n",
            "iteration: 16500 loss: 0.0029 scmap loss: 0.0028 locref loss: 0.0000 limb loss: 0.0001 lr: 1e-05\n",
            "iteration: 16600 loss: 0.0029 scmap loss: 0.0028 locref loss: 0.0000 limb loss: 0.0001 lr: 1e-05\n",
            "iteration: 16700 loss: 0.0029 scmap loss: 0.0028 locref loss: 0.0000 limb loss: 0.0001 lr: 1e-05\n",
            "iteration: 16800 loss: 0.0030 scmap loss: 0.0029 locref loss: 0.0000 limb loss: 0.0001 lr: 1e-05\n",
            "iteration: 16900 loss: 0.0030 scmap loss: 0.0028 locref loss: 0.0000 limb loss: 0.0001 lr: 1e-05\n",
            "iteration: 17000 loss: 0.0029 scmap loss: 0.0027 locref loss: 0.0000 limb loss: 0.0001 lr: 1e-05\n",
            "iteration: 17100 loss: 0.0029 scmap loss: 0.0027 locref loss: 0.0000 limb loss: 0.0001 lr: 1e-05\n",
            "iteration: 17200 loss: 0.0030 scmap loss: 0.0029 locref loss: 0.0000 limb loss: 0.0001 lr: 1e-05\n",
            "iteration: 17300 loss: 0.0029 scmap loss: 0.0028 locref loss: 0.0000 limb loss: 0.0001 lr: 1e-05\n",
            "iteration: 17400 loss: 0.0031 scmap loss: 0.0029 locref loss: 0.0001 limb loss: 0.0001 lr: 1e-05\n",
            "iteration: 17500 loss: 0.0030 scmap loss: 0.0029 locref loss: 0.0000 limb loss: 0.0001 lr: 1e-05\n",
            "iteration: 17600 loss: 0.0028 scmap loss: 0.0027 locref loss: 0.0000 limb loss: 0.0001 lr: 1e-05\n",
            "iteration: 17700 loss: 0.0031 scmap loss: 0.0029 locref loss: 0.0000 limb loss: 0.0001 lr: 1e-05\n",
            "iteration: 17800 loss: 0.0029 scmap loss: 0.0028 locref loss: 0.0000 limb loss: 0.0001 lr: 1e-05\n",
            "iteration: 17900 loss: 0.0029 scmap loss: 0.0027 locref loss: 0.0000 limb loss: 0.0001 lr: 1e-05\n",
            "iteration: 18000 loss: 0.0030 scmap loss: 0.0029 locref loss: 0.0000 limb loss: 0.0001 lr: 1e-05\n",
            "iteration: 18100 loss: 0.0029 scmap loss: 0.0028 locref loss: 0.0000 limb loss: 0.0001 lr: 1e-05\n",
            "iteration: 18200 loss: 0.0029 scmap loss: 0.0028 locref loss: 0.0000 limb loss: 0.0001 lr: 1e-05\n",
            "iteration: 18300 loss: 0.0029 scmap loss: 0.0027 locref loss: 0.0000 limb loss: 0.0001 lr: 1e-05\n",
            "iteration: 18400 loss: 0.0030 scmap loss: 0.0029 locref loss: 0.0000 limb loss: 0.0001 lr: 1e-05\n",
            "iteration: 18500 loss: 0.0028 scmap loss: 0.0026 locref loss: 0.0000 limb loss: 0.0001 lr: 1e-05\n",
            "iteration: 18600 loss: 0.0027 scmap loss: 0.0026 locref loss: 0.0000 limb loss: 0.0001 lr: 1e-05\n",
            "iteration: 18700 loss: 0.0029 scmap loss: 0.0028 locref loss: 0.0000 limb loss: 0.0001 lr: 1e-05\n",
            "iteration: 18800 loss: 0.0029 scmap loss: 0.0027 locref loss: 0.0000 limb loss: 0.0001 lr: 1e-05\n",
            "iteration: 18900 loss: 0.0030 scmap loss: 0.0028 locref loss: 0.0000 limb loss: 0.0001 lr: 1e-05\n",
            "iteration: 19000 loss: 0.0029 scmap loss: 0.0028 locref loss: 0.0000 limb loss: 0.0001 lr: 1e-05\n",
            "iteration: 19100 loss: 0.0028 scmap loss: 0.0027 locref loss: 0.0001 limb loss: 0.0001 lr: 1e-05\n",
            "iteration: 19200 loss: 0.0029 scmap loss: 0.0027 locref loss: 0.0000 limb loss: 0.0001 lr: 1e-05\n",
            "iteration: 19300 loss: 0.0029 scmap loss: 0.0027 locref loss: 0.0000 limb loss: 0.0001 lr: 1e-05\n",
            "iteration: 19400 loss: 0.0030 scmap loss: 0.0028 locref loss: 0.0000 limb loss: 0.0001 lr: 1e-05\n",
            "iteration: 19500 loss: 0.0029 scmap loss: 0.0028 locref loss: 0.0000 limb loss: 0.0001 lr: 1e-05\n",
            "iteration: 19600 loss: 0.0030 scmap loss: 0.0028 locref loss: 0.0000 limb loss: 0.0001 lr: 1e-05\n",
            "iteration: 19700 loss: 0.0029 scmap loss: 0.0028 locref loss: 0.0000 limb loss: 0.0001 lr: 1e-05\n",
            "iteration: 19800 loss: 0.0029 scmap loss: 0.0028 locref loss: 0.0000 limb loss: 0.0001 lr: 1e-05\n",
            "iteration: 19900 loss: 0.0030 scmap loss: 0.0028 locref loss: 0.0000 limb loss: 0.0001 lr: 1e-05\n",
            "iteration: 20000 loss: 0.0029 scmap loss: 0.0027 locref loss: 0.0000 limb loss: 0.0001 lr: 1e-05\n",
            "iteration: 20100 loss: 0.0030 scmap loss: 0.0029 locref loss: 0.0000 limb loss: 0.0001 lr: 1e-05\n",
            "iteration: 20200 loss: 0.0029 scmap loss: 0.0028 locref loss: 0.0000 limb loss: 0.0001 lr: 1e-05\n",
            "iteration: 20300 loss: 0.0029 scmap loss: 0.0027 locref loss: 0.0000 limb loss: 0.0001 lr: 1e-05\n",
            "iteration: 20400 loss: 0.0028 scmap loss: 0.0027 locref loss: 0.0000 limb loss: 0.0001 lr: 1e-05\n",
            "iteration: 20500 loss: 0.0029 scmap loss: 0.0027 locref loss: 0.0000 limb loss: 0.0001 lr: 1e-05\n",
            "iteration: 20600 loss: 0.0029 scmap loss: 0.0028 locref loss: 0.0000 limb loss: 0.0001 lr: 1e-05\n",
            "iteration: 20700 loss: 0.0029 scmap loss: 0.0028 locref loss: 0.0000 limb loss: 0.0001 lr: 1e-05\n",
            "iteration: 20800 loss: 0.0028 scmap loss: 0.0027 locref loss: 0.0000 limb loss: 0.0001 lr: 1e-05\n",
            "iteration: 20900 loss: 0.0029 scmap loss: 0.0027 locref loss: 0.0000 limb loss: 0.0001 lr: 1e-05\n",
            "iteration: 21000 loss: 0.0029 scmap loss: 0.0028 locref loss: 0.0000 limb loss: 0.0001 lr: 1e-05\n",
            "iteration: 21100 loss: 0.0029 scmap loss: 0.0028 locref loss: 0.0000 limb loss: 0.0001 lr: 1e-05\n",
            "iteration: 21200 loss: 0.0031 scmap loss: 0.0029 locref loss: 0.0000 limb loss: 0.0001 lr: 1e-05\n",
            "iteration: 21300 loss: 0.0029 scmap loss: 0.0027 locref loss: 0.0000 limb loss: 0.0001 lr: 1e-05\n",
            "iteration: 21400 loss: 0.0028 scmap loss: 0.0027 locref loss: 0.0000 limb loss: 0.0001 lr: 1e-05\n",
            "iteration: 21500 loss: 0.0028 scmap loss: 0.0027 locref loss: 0.0000 limb loss: 0.0001 lr: 1e-05\n",
            "iteration: 21600 loss: 0.0027 scmap loss: 0.0026 locref loss: 0.0000 limb loss: 0.0001 lr: 1e-05\n",
            "iteration: 21700 loss: 0.0028 scmap loss: 0.0027 locref loss: 0.0000 limb loss: 0.0001 lr: 1e-05\n",
            "iteration: 21800 loss: 0.0027 scmap loss: 0.0026 locref loss: 0.0000 limb loss: 0.0001 lr: 1e-05\n",
            "iteration: 21900 loss: 0.0028 scmap loss: 0.0027 locref loss: 0.0000 limb loss: 0.0001 lr: 1e-05\n",
            "iteration: 22000 loss: 0.0028 scmap loss: 0.0027 locref loss: 0.0000 limb loss: 0.0001 lr: 1e-05\n",
            "iteration: 22100 loss: 0.0029 scmap loss: 0.0028 locref loss: 0.0000 limb loss: 0.0001 lr: 1e-05\n",
            "iteration: 22200 loss: 0.0029 scmap loss: 0.0028 locref loss: 0.0000 limb loss: 0.0001 lr: 1e-05\n",
            "iteration: 22300 loss: 0.0028 scmap loss: 0.0027 locref loss: 0.0000 limb loss: 0.0001 lr: 1e-05\n",
            "iteration: 22400 loss: 0.0028 scmap loss: 0.0027 locref loss: 0.0000 limb loss: 0.0001 lr: 1e-05\n",
            "iteration: 22500 loss: 0.0030 scmap loss: 0.0029 locref loss: 0.0000 limb loss: 0.0001 lr: 1e-05\n",
            "iteration: 22600 loss: 0.0029 scmap loss: 0.0027 locref loss: 0.0000 limb loss: 0.0001 lr: 1e-05\n",
            "iteration: 22700 loss: 0.0029 scmap loss: 0.0028 locref loss: 0.0000 limb loss: 0.0001 lr: 1e-05\n",
            "iteration: 22800 loss: 0.0027 scmap loss: 0.0026 locref loss: 0.0000 limb loss: 0.0001 lr: 1e-05\n",
            "iteration: 22900 loss: 0.0027 scmap loss: 0.0026 locref loss: 0.0000 limb loss: 0.0001 lr: 1e-05\n",
            "iteration: 23000 loss: 0.0029 scmap loss: 0.0027 locref loss: 0.0000 limb loss: 0.0001 lr: 1e-05\n",
            "iteration: 23100 loss: 0.0028 scmap loss: 0.0026 locref loss: 0.0000 limb loss: 0.0001 lr: 1e-05\n",
            "iteration: 23200 loss: 0.0028 scmap loss: 0.0026 locref loss: 0.0000 limb loss: 0.0001 lr: 1e-05\n",
            "iteration: 23300 loss: 0.0028 scmap loss: 0.0027 locref loss: 0.0000 limb loss: 0.0001 lr: 1e-05\n",
            "iteration: 23400 loss: 0.0027 scmap loss: 0.0026 locref loss: 0.0000 limb loss: 0.0001 lr: 1e-05\n",
            "iteration: 23500 loss: 0.0028 scmap loss: 0.0027 locref loss: 0.0000 limb loss: 0.0001 lr: 1e-05\n",
            "iteration: 23600 loss: 0.0028 scmap loss: 0.0026 locref loss: 0.0000 limb loss: 0.0001 lr: 1e-05\n",
            "iteration: 23700 loss: 0.0028 scmap loss: 0.0026 locref loss: 0.0000 limb loss: 0.0001 lr: 1e-05\n",
            "iteration: 23800 loss: 0.0026 scmap loss: 0.0025 locref loss: 0.0000 limb loss: 0.0001 lr: 1e-05\n",
            "iteration: 23900 loss: 0.0029 scmap loss: 0.0028 locref loss: 0.0000 limb loss: 0.0001 lr: 1e-05\n",
            "iteration: 24000 loss: 0.0028 scmap loss: 0.0027 locref loss: 0.0000 limb loss: 0.0001 lr: 1e-05\n",
            "iteration: 24100 loss: 0.0029 scmap loss: 0.0028 locref loss: 0.0000 limb loss: 0.0001 lr: 1e-05\n",
            "iteration: 24200 loss: 0.0028 scmap loss: 0.0027 locref loss: 0.0000 limb loss: 0.0001 lr: 1e-05\n",
            "iteration: 24300 loss: 0.0029 scmap loss: 0.0028 locref loss: 0.0000 limb loss: 0.0001 lr: 1e-05\n",
            "iteration: 24400 loss: 0.0028 scmap loss: 0.0026 locref loss: 0.0000 limb loss: 0.0001 lr: 1e-05\n",
            "iteration: 24500 loss: 0.0027 scmap loss: 0.0026 locref loss: 0.0000 limb loss: 0.0001 lr: 1e-05\n",
            "iteration: 24600 loss: 0.0028 scmap loss: 0.0026 locref loss: 0.0000 limb loss: 0.0001 lr: 1e-05\n",
            "iteration: 24700 loss: 0.0027 scmap loss: 0.0026 locref loss: 0.0000 limb loss: 0.0001 lr: 1e-05\n",
            "iteration: 24800 loss: 0.0027 scmap loss: 0.0026 locref loss: 0.0000 limb loss: 0.0001 lr: 1e-05\n",
            "iteration: 24900 loss: 0.0028 scmap loss: 0.0027 locref loss: 0.0000 limb loss: 0.0001 lr: 1e-05\n",
            "iteration: 25000 loss: 0.0029 scmap loss: 0.0027 locref loss: 0.0000 limb loss: 0.0001 lr: 1e-05\n",
            "iteration: 25100 loss: 0.0027 scmap loss: 0.0025 locref loss: 0.0000 limb loss: 0.0001 lr: 1e-05\n",
            "iteration: 25200 loss: 0.0028 scmap loss: 0.0027 locref loss: 0.0000 limb loss: 0.0001 lr: 1e-05\n",
            "iteration: 25300 loss: 0.0028 scmap loss: 0.0027 locref loss: 0.0000 limb loss: 0.0001 lr: 1e-05\n",
            "iteration: 25400 loss: 0.0028 scmap loss: 0.0026 locref loss: 0.0000 limb loss: 0.0001 lr: 1e-05\n",
            "iteration: 25500 loss: 0.0027 scmap loss: 0.0026 locref loss: 0.0000 limb loss: 0.0001 lr: 1e-05\n",
            "iteration: 25600 loss: 0.0028 scmap loss: 0.0027 locref loss: 0.0000 limb loss: 0.0001 lr: 1e-05\n",
            "iteration: 25700 loss: 0.0027 scmap loss: 0.0025 locref loss: 0.0000 limb loss: 0.0001 lr: 1e-05\n",
            "iteration: 25800 loss: 0.0026 scmap loss: 0.0025 locref loss: 0.0000 limb loss: 0.0001 lr: 1e-05\n",
            "iteration: 25900 loss: 0.0027 scmap loss: 0.0026 locref loss: 0.0000 limb loss: 0.0001 lr: 1e-05\n",
            "iteration: 26000 loss: 0.0026 scmap loss: 0.0025 locref loss: 0.0000 limb loss: 0.0001 lr: 1e-05\n",
            "iteration: 26100 loss: 0.0027 scmap loss: 0.0026 locref loss: 0.0000 limb loss: 0.0001 lr: 1e-05\n",
            "iteration: 26200 loss: 0.0026 scmap loss: 0.0025 locref loss: 0.0000 limb loss: 0.0001 lr: 1e-05\n",
            "iteration: 26300 loss: 0.0026 scmap loss: 0.0025 locref loss: 0.0000 limb loss: 0.0001 lr: 1e-05\n",
            "iteration: 26400 loss: 0.0027 scmap loss: 0.0025 locref loss: 0.0000 limb loss: 0.0001 lr: 1e-05\n",
            "iteration: 26500 loss: 0.0026 scmap loss: 0.0025 locref loss: 0.0000 limb loss: 0.0001 lr: 1e-05\n",
            "iteration: 26600 loss: 0.0027 scmap loss: 0.0026 locref loss: 0.0000 limb loss: 0.0001 lr: 1e-05\n",
            "iteration: 26700 loss: 0.0027 scmap loss: 0.0026 locref loss: 0.0000 limb loss: 0.0001 lr: 1e-05\n",
            "iteration: 26800 loss: 0.0026 scmap loss: 0.0024 locref loss: 0.0000 limb loss: 0.0001 lr: 1e-05\n",
            "iteration: 26900 loss: 0.0026 scmap loss: 0.0025 locref loss: 0.0000 limb loss: 0.0001 lr: 1e-05\n",
            "iteration: 27000 loss: 0.0026 scmap loss: 0.0025 locref loss: 0.0000 limb loss: 0.0001 lr: 1e-05\n",
            "iteration: 27100 loss: 0.0025 scmap loss: 0.0024 locref loss: 0.0000 limb loss: 0.0001 lr: 1e-05\n",
            "iteration: 27200 loss: 0.0026 scmap loss: 0.0025 locref loss: 0.0000 limb loss: 0.0001 lr: 1e-05\n",
            "iteration: 27300 loss: 0.0026 scmap loss: 0.0024 locref loss: 0.0000 limb loss: 0.0001 lr: 1e-05\n",
            "iteration: 27400 loss: 0.0027 scmap loss: 0.0025 locref loss: 0.0000 limb loss: 0.0001 lr: 1e-05\n",
            "iteration: 27500 loss: 0.0026 scmap loss: 0.0025 locref loss: 0.0000 limb loss: 0.0001 lr: 1e-05\n",
            "iteration: 27600 loss: 0.0025 scmap loss: 0.0024 locref loss: 0.0000 limb loss: 0.0001 lr: 1e-05\n",
            "iteration: 27700 loss: 0.0025 scmap loss: 0.0023 locref loss: 0.0000 limb loss: 0.0001 lr: 1e-05\n",
            "iteration: 27800 loss: 0.0026 scmap loss: 0.0025 locref loss: 0.0000 limb loss: 0.0001 lr: 1e-05\n",
            "iteration: 27900 loss: 0.0025 scmap loss: 0.0024 locref loss: 0.0000 limb loss: 0.0001 lr: 1e-05\n",
            "iteration: 28000 loss: 0.0024 scmap loss: 0.0023 locref loss: 0.0000 limb loss: 0.0001 lr: 1e-05\n",
            "iteration: 28100 loss: 0.0025 scmap loss: 0.0024 locref loss: 0.0000 limb loss: 0.0001 lr: 1e-05\n",
            "iteration: 28200 loss: 0.0024 scmap loss: 0.0023 locref loss: 0.0000 limb loss: 0.0001 lr: 1e-05\n",
            "iteration: 28300 loss: 0.0025 scmap loss: 0.0023 locref loss: 0.0000 limb loss: 0.0001 lr: 1e-05\n",
            "iteration: 28400 loss: 0.0026 scmap loss: 0.0024 locref loss: 0.0000 limb loss: 0.0001 lr: 1e-05\n",
            "iteration: 28500 loss: 0.0024 scmap loss: 0.0023 locref loss: 0.0000 limb loss: 0.0001 lr: 1e-05\n",
            "iteration: 28600 loss: 0.0025 scmap loss: 0.0023 locref loss: 0.0000 limb loss: 0.0001 lr: 1e-05\n",
            "iteration: 28700 loss: 0.0024 scmap loss: 0.0023 locref loss: 0.0000 limb loss: 0.0001 lr: 1e-05\n",
            "iteration: 28800 loss: 0.0025 scmap loss: 0.0023 locref loss: 0.0000 limb loss: 0.0001 lr: 1e-05\n",
            "iteration: 28900 loss: 0.0025 scmap loss: 0.0024 locref loss: 0.0000 limb loss: 0.0001 lr: 1e-05\n",
            "iteration: 29000 loss: 0.0024 scmap loss: 0.0023 locref loss: 0.0000 limb loss: 0.0001 lr: 1e-05\n",
            "iteration: 29100 loss: 0.0026 scmap loss: 0.0024 locref loss: 0.0000 limb loss: 0.0001 lr: 1e-05\n",
            "iteration: 29200 loss: 0.0024 scmap loss: 0.0023 locref loss: 0.0000 limb loss: 0.0001 lr: 1e-05\n",
            "iteration: 29300 loss: 0.0024 scmap loss: 0.0023 locref loss: 0.0000 limb loss: 0.0001 lr: 1e-05\n",
            "iteration: 29400 loss: 0.0024 scmap loss: 0.0022 locref loss: 0.0000 limb loss: 0.0001 lr: 1e-05\n",
            "iteration: 29500 loss: 0.0023 scmap loss: 0.0022 locref loss: 0.0000 limb loss: 0.0001 lr: 1e-05\n",
            "iteration: 29600 loss: 0.0024 scmap loss: 0.0022 locref loss: 0.0000 limb loss: 0.0001 lr: 1e-05\n",
            "iteration: 29700 loss: 0.0024 scmap loss: 0.0022 locref loss: 0.0000 limb loss: 0.0001 lr: 1e-05\n",
            "iteration: 29800 loss: 0.0025 scmap loss: 0.0023 locref loss: 0.0000 limb loss: 0.0001 lr: 1e-05\n",
            "iteration: 29900 loss: 0.0024 scmap loss: 0.0022 locref loss: 0.0000 limb loss: 0.0001 lr: 1e-05\n",
            "iteration: 30000 loss: 0.0023 scmap loss: 0.0021 locref loss: 0.0000 limb loss: 0.0001 lr: 1e-05\n",
            "iteration: 30100 loss: 0.0023 scmap loss: 0.0021 locref loss: 0.0000 limb loss: 0.0001 lr: 1e-05\n",
            "iteration: 30200 loss: 0.0023 scmap loss: 0.0021 locref loss: 0.0000 limb loss: 0.0001 lr: 1e-05\n",
            "iteration: 30300 loss: 0.0024 scmap loss: 0.0023 locref loss: 0.0000 limb loss: 0.0001 lr: 1e-05\n",
            "iteration: 30400 loss: 0.0022 scmap loss: 0.0021 locref loss: 0.0000 limb loss: 0.0001 lr: 1e-05\n",
            "iteration: 30500 loss: 0.0022 scmap loss: 0.0021 locref loss: 0.0000 limb loss: 0.0001 lr: 1e-05\n",
            "iteration: 30600 loss: 0.0022 scmap loss: 0.0021 locref loss: 0.0000 limb loss: 0.0001 lr: 1e-05\n",
            "iteration: 30700 loss: 0.0022 scmap loss: 0.0020 locref loss: 0.0000 limb loss: 0.0001 lr: 1e-05\n",
            "iteration: 30800 loss: 0.0022 scmap loss: 0.0020 locref loss: 0.0000 limb loss: 0.0001 lr: 1e-05\n",
            "iteration: 30900 loss: 0.0023 scmap loss: 0.0022 locref loss: 0.0000 limb loss: 0.0001 lr: 1e-05\n",
            "iteration: 31000 loss: 0.0021 scmap loss: 0.0020 locref loss: 0.0000 limb loss: 0.0001 lr: 1e-05\n",
            "iteration: 31100 loss: 0.0022 scmap loss: 0.0021 locref loss: 0.0000 limb loss: 0.0001 lr: 1e-05\n",
            "iteration: 31200 loss: 0.0022 scmap loss: 0.0021 locref loss: 0.0000 limb loss: 0.0001 lr: 1e-05\n",
            "iteration: 31300 loss: 0.0022 scmap loss: 0.0020 locref loss: 0.0000 limb loss: 0.0001 lr: 1e-05\n",
            "iteration: 31400 loss: 0.0022 scmap loss: 0.0020 locref loss: 0.0000 limb loss: 0.0001 lr: 1e-05\n",
            "iteration: 31500 loss: 0.0023 scmap loss: 0.0021 locref loss: 0.0000 limb loss: 0.0001 lr: 1e-05\n",
            "iteration: 31600 loss: 0.0021 scmap loss: 0.0020 locref loss: 0.0000 limb loss: 0.0001 lr: 1e-05\n",
            "iteration: 31700 loss: 0.0023 scmap loss: 0.0021 locref loss: 0.0000 limb loss: 0.0001 lr: 1e-05\n",
            "iteration: 31800 loss: 0.0021 scmap loss: 0.0020 locref loss: 0.0000 limb loss: 0.0001 lr: 1e-05\n",
            "iteration: 31900 loss: 0.0021 scmap loss: 0.0020 locref loss: 0.0000 limb loss: 0.0001 lr: 1e-05\n",
            "iteration: 32000 loss: 0.0022 scmap loss: 0.0020 locref loss: 0.0000 limb loss: 0.0001 lr: 1e-05\n",
            "iteration: 32100 loss: 0.0021 scmap loss: 0.0019 locref loss: 0.0000 limb loss: 0.0001 lr: 1e-05\n",
            "iteration: 32200 loss: 0.0021 scmap loss: 0.0020 locref loss: 0.0000 limb loss: 0.0001 lr: 1e-05\n",
            "iteration: 32300 loss: 0.0022 scmap loss: 0.0020 locref loss: 0.0000 limb loss: 0.0001 lr: 1e-05\n",
            "iteration: 32400 loss: 0.0019 scmap loss: 0.0018 locref loss: 0.0000 limb loss: 0.0001 lr: 1e-05\n",
            "iteration: 32500 loss: 0.0022 scmap loss: 0.0021 locref loss: 0.0000 limb loss: 0.0001 lr: 1e-05\n",
            "iteration: 32600 loss: 0.0021 scmap loss: 0.0019 locref loss: 0.0000 limb loss: 0.0001 lr: 1e-05\n",
            "iteration: 32700 loss: 0.0020 scmap loss: 0.0019 locref loss: 0.0000 limb loss: 0.0001 lr: 1e-05\n",
            "iteration: 32800 loss: 0.0021 scmap loss: 0.0019 locref loss: 0.0000 limb loss: 0.0001 lr: 1e-05\n",
            "iteration: 32900 loss: 0.0020 scmap loss: 0.0019 locref loss: 0.0000 limb loss: 0.0001 lr: 1e-05\n",
            "iteration: 33000 loss: 0.0022 scmap loss: 0.0020 locref loss: 0.0000 limb loss: 0.0001 lr: 1e-05\n",
            "iteration: 33100 loss: 0.0021 scmap loss: 0.0020 locref loss: 0.0000 limb loss: 0.0001 lr: 1e-05\n",
            "iteration: 33200 loss: 0.0020 scmap loss: 0.0019 locref loss: 0.0000 limb loss: 0.0001 lr: 1e-05\n",
            "iteration: 33300 loss: 0.0020 scmap loss: 0.0018 locref loss: 0.0000 limb loss: 0.0001 lr: 1e-05\n",
            "iteration: 33400 loss: 0.0020 scmap loss: 0.0019 locref loss: 0.0000 limb loss: 0.0001 lr: 1e-05\n",
            "iteration: 33500 loss: 0.0021 scmap loss: 0.0020 locref loss: 0.0000 limb loss: 0.0001 lr: 1e-05\n",
            "iteration: 33600 loss: 0.0021 scmap loss: 0.0020 locref loss: 0.0000 limb loss: 0.0001 lr: 1e-05\n",
            "iteration: 33700 loss: 0.0020 scmap loss: 0.0019 locref loss: 0.0000 limb loss: 0.0001 lr: 1e-05\n",
            "iteration: 33800 loss: 0.0021 scmap loss: 0.0020 locref loss: 0.0000 limb loss: 0.0001 lr: 1e-05\n",
            "iteration: 33900 loss: 0.0020 scmap loss: 0.0019 locref loss: 0.0000 limb loss: 0.0001 lr: 1e-05\n",
            "iteration: 34000 loss: 0.0019 scmap loss: 0.0018 locref loss: 0.0000 limb loss: 0.0001 lr: 1e-05\n",
            "iteration: 34100 loss: 0.0019 scmap loss: 0.0018 locref loss: 0.0000 limb loss: 0.0001 lr: 1e-05\n",
            "iteration: 34200 loss: 0.0020 scmap loss: 0.0019 locref loss: 0.0000 limb loss: 0.0001 lr: 1e-05\n",
            "iteration: 34300 loss: 0.0020 scmap loss: 0.0019 locref loss: 0.0000 limb loss: 0.0001 lr: 1e-05\n",
            "iteration: 34400 loss: 0.0018 scmap loss: 0.0016 locref loss: 0.0000 limb loss: 0.0001 lr: 1e-05\n",
            "iteration: 34500 loss: 0.0019 scmap loss: 0.0018 locref loss: 0.0000 limb loss: 0.0001 lr: 1e-05\n",
            "iteration: 34600 loss: 0.0019 scmap loss: 0.0018 locref loss: 0.0000 limb loss: 0.0001 lr: 1e-05\n",
            "iteration: 34700 loss: 0.0020 scmap loss: 0.0019 locref loss: 0.0000 limb loss: 0.0001 lr: 1e-05\n",
            "iteration: 34800 loss: 0.0020 scmap loss: 0.0019 locref loss: 0.0000 limb loss: 0.0001 lr: 1e-05\n",
            "iteration: 34900 loss: 0.0019 scmap loss: 0.0018 locref loss: 0.0000 limb loss: 0.0001 lr: 1e-05\n",
            "iteration: 35000 loss: 0.0019 scmap loss: 0.0018 locref loss: 0.0000 limb loss: 0.0001 lr: 1e-05\n",
            "iteration: 35100 loss: 0.0020 scmap loss: 0.0019 locref loss: 0.0000 limb loss: 0.0001 lr: 1e-05\n",
            "iteration: 35200 loss: 0.0020 scmap loss: 0.0018 locref loss: 0.0000 limb loss: 0.0001 lr: 1e-05\n",
            "iteration: 35300 loss: 0.0020 scmap loss: 0.0018 locref loss: 0.0000 limb loss: 0.0001 lr: 1e-05\n",
            "iteration: 35400 loss: 0.0019 scmap loss: 0.0018 locref loss: 0.0000 limb loss: 0.0001 lr: 1e-05\n",
            "iteration: 35500 loss: 0.0019 scmap loss: 0.0017 locref loss: 0.0000 limb loss: 0.0001 lr: 1e-05\n",
            "iteration: 35600 loss: 0.0020 scmap loss: 0.0019 locref loss: 0.0000 limb loss: 0.0001 lr: 1e-05\n",
            "iteration: 35700 loss: 0.0019 scmap loss: 0.0018 locref loss: 0.0000 limb loss: 0.0001 lr: 1e-05\n",
            "iteration: 35800 loss: 0.0019 scmap loss: 0.0018 locref loss: 0.0000 limb loss: 0.0001 lr: 1e-05\n",
            "iteration: 35900 loss: 0.0020 scmap loss: 0.0019 locref loss: 0.0000 limb loss: 0.0001 lr: 1e-05\n",
            "iteration: 36000 loss: 0.0019 scmap loss: 0.0017 locref loss: 0.0000 limb loss: 0.0001 lr: 1e-05\n",
            "iteration: 36100 loss: 0.0020 scmap loss: 0.0018 locref loss: 0.0000 limb loss: 0.0001 lr: 1e-05\n",
            "iteration: 36200 loss: 0.0020 scmap loss: 0.0018 locref loss: 0.0000 limb loss: 0.0001 lr: 1e-05\n",
            "iteration: 36300 loss: 0.0019 scmap loss: 0.0018 locref loss: 0.0000 limb loss: 0.0001 lr: 1e-05\n",
            "iteration: 36400 loss: 0.0020 scmap loss: 0.0019 locref loss: 0.0000 limb loss: 0.0001 lr: 1e-05\n",
            "iteration: 36500 loss: 0.0019 scmap loss: 0.0018 locref loss: 0.0000 limb loss: 0.0001 lr: 1e-05\n",
            "iteration: 36600 loss: 0.0018 scmap loss: 0.0017 locref loss: 0.0000 limb loss: 0.0001 lr: 1e-05\n",
            "iteration: 36700 loss: 0.0019 scmap loss: 0.0017 locref loss: 0.0000 limb loss: 0.0001 lr: 1e-05\n",
            "iteration: 36800 loss: 0.0021 scmap loss: 0.0020 locref loss: 0.0000 limb loss: 0.0001 lr: 1e-05\n",
            "iteration: 36900 loss: 0.0019 scmap loss: 0.0018 locref loss: 0.0000 limb loss: 0.0001 lr: 1e-05\n",
            "iteration: 37000 loss: 0.0020 scmap loss: 0.0018 locref loss: 0.0000 limb loss: 0.0001 lr: 1e-05\n",
            "iteration: 37100 loss: 0.0020 scmap loss: 0.0019 locref loss: 0.0000 limb loss: 0.0001 lr: 1e-05\n",
            "iteration: 37200 loss: 0.0020 scmap loss: 0.0018 locref loss: 0.0000 limb loss: 0.0001 lr: 1e-05\n",
            "iteration: 37300 loss: 0.0020 scmap loss: 0.0018 locref loss: 0.0000 limb loss: 0.0001 lr: 1e-05\n",
            "iteration: 37400 loss: 0.0018 scmap loss: 0.0017 locref loss: 0.0000 limb loss: 0.0001 lr: 1e-05\n",
            "iteration: 37500 loss: 0.0018 scmap loss: 0.0017 locref loss: 0.0000 limb loss: 0.0001 lr: 1e-05\n",
            "iteration: 37600 loss: 0.0019 scmap loss: 0.0018 locref loss: 0.0000 limb loss: 0.0001 lr: 1e-05\n",
            "iteration: 37700 loss: 0.0019 scmap loss: 0.0018 locref loss: 0.0000 limb loss: 0.0001 lr: 1e-05\n",
            "iteration: 37800 loss: 0.0018 scmap loss: 0.0016 locref loss: 0.0000 limb loss: 0.0001 lr: 1e-05\n",
            "iteration: 37900 loss: 0.0019 scmap loss: 0.0018 locref loss: 0.0000 limb loss: 0.0001 lr: 1e-05\n",
            "iteration: 38000 loss: 0.0019 scmap loss: 0.0018 locref loss: 0.0000 limb loss: 0.0001 lr: 1e-05\n",
            "iteration: 38100 loss: 0.0020 scmap loss: 0.0019 locref loss: 0.0000 limb loss: 0.0001 lr: 1e-05\n",
            "iteration: 38200 loss: 0.0020 scmap loss: 0.0018 locref loss: 0.0000 limb loss: 0.0001 lr: 1e-05\n",
            "iteration: 38300 loss: 0.0018 scmap loss: 0.0017 locref loss: 0.0000 limb loss: 0.0001 lr: 1e-05\n",
            "iteration: 38400 loss: 0.0019 scmap loss: 0.0018 locref loss: 0.0000 limb loss: 0.0001 lr: 1e-05\n",
            "iteration: 38500 loss: 0.0017 scmap loss: 0.0016 locref loss: 0.0000 limb loss: 0.0001 lr: 1e-05\n",
            "iteration: 38600 loss: 0.0018 scmap loss: 0.0017 locref loss: 0.0000 limb loss: 0.0001 lr: 1e-05\n",
            "iteration: 38700 loss: 0.0018 scmap loss: 0.0017 locref loss: 0.0000 limb loss: 0.0001 lr: 1e-05\n",
            "iteration: 38800 loss: 0.0019 scmap loss: 0.0018 locref loss: 0.0000 limb loss: 0.0001 lr: 1e-05\n",
            "iteration: 38900 loss: 0.0018 scmap loss: 0.0017 locref loss: 0.0000 limb loss: 0.0001 lr: 1e-05\n",
            "iteration: 39000 loss: 0.0018 scmap loss: 0.0016 locref loss: 0.0000 limb loss: 0.0001 lr: 1e-05\n",
            "iteration: 39100 loss: 0.0019 scmap loss: 0.0018 locref loss: 0.0000 limb loss: 0.0001 lr: 1e-05\n",
            "iteration: 39200 loss: 0.0018 scmap loss: 0.0016 locref loss: 0.0000 limb loss: 0.0001 lr: 1e-05\n",
            "iteration: 39300 loss: 0.0019 scmap loss: 0.0018 locref loss: 0.0000 limb loss: 0.0001 lr: 1e-05\n",
            "iteration: 39400 loss: 0.0018 scmap loss: 0.0017 locref loss: 0.0000 limb loss: 0.0001 lr: 1e-05\n",
            "iteration: 39500 loss: 0.0019 scmap loss: 0.0018 locref loss: 0.0000 limb loss: 0.0001 lr: 1e-05\n",
            "iteration: 39600 loss: 0.0020 scmap loss: 0.0018 locref loss: 0.0000 limb loss: 0.0001 lr: 1e-05\n",
            "iteration: 39700 loss: 0.0018 scmap loss: 0.0016 locref loss: 0.0000 limb loss: 0.0001 lr: 1e-05\n",
            "iteration: 39800 loss: 0.0018 scmap loss: 0.0017 locref loss: 0.0000 limb loss: 0.0001 lr: 1e-05\n",
            "iteration: 39900 loss: 0.0017 scmap loss: 0.0016 locref loss: 0.0000 limb loss: 0.0001 lr: 1e-05\n",
            "iteration: 40000 loss: 0.0018 scmap loss: 0.0017 locref loss: 0.0000 limb loss: 0.0001 lr: 1e-05\n",
            "iteration: 40100 loss: 0.0016 scmap loss: 0.0015 locref loss: 0.0000 limb loss: 0.0001 lr: 1e-05\n",
            "iteration: 40200 loss: 0.0017 scmap loss: 0.0016 locref loss: 0.0000 limb loss: 0.0001 lr: 1e-05\n",
            "iteration: 40300 loss: 0.0020 scmap loss: 0.0018 locref loss: 0.0000 limb loss: 0.0001 lr: 1e-05\n",
            "iteration: 40400 loss: 0.0018 scmap loss: 0.0017 locref loss: 0.0000 limb loss: 0.0001 lr: 1e-05\n",
            "iteration: 40500 loss: 0.0016 scmap loss: 0.0015 locref loss: 0.0000 limb loss: 0.0001 lr: 1e-05\n",
            "iteration: 40600 loss: 0.0018 scmap loss: 0.0016 locref loss: 0.0000 limb loss: 0.0001 lr: 1e-05\n",
            "iteration: 40700 loss: 0.0019 scmap loss: 0.0017 locref loss: 0.0000 limb loss: 0.0001 lr: 1e-05\n",
            "iteration: 40800 loss: 0.0019 scmap loss: 0.0017 locref loss: 0.0000 limb loss: 0.0001 lr: 1e-05\n",
            "iteration: 40900 loss: 0.0019 scmap loss: 0.0018 locref loss: 0.0000 limb loss: 0.0001 lr: 1e-05\n",
            "iteration: 41000 loss: 0.0018 scmap loss: 0.0016 locref loss: 0.0000 limb loss: 0.0001 lr: 1e-05\n",
            "iteration: 41100 loss: 0.0018 scmap loss: 0.0017 locref loss: 0.0000 limb loss: 0.0001 lr: 1e-05\n",
            "iteration: 41200 loss: 0.0016 scmap loss: 0.0015 locref loss: 0.0000 limb loss: 0.0001 lr: 1e-05\n",
            "iteration: 41300 loss: 0.0018 scmap loss: 0.0017 locref loss: 0.0000 limb loss: 0.0001 lr: 1e-05\n",
            "iteration: 41400 loss: 0.0018 scmap loss: 0.0016 locref loss: 0.0000 limb loss: 0.0001 lr: 1e-05\n",
            "iteration: 41500 loss: 0.0018 scmap loss: 0.0017 locref loss: 0.0000 limb loss: 0.0001 lr: 1e-05\n",
            "iteration: 41600 loss: 0.0018 scmap loss: 0.0016 locref loss: 0.0000 limb loss: 0.0001 lr: 1e-05\n",
            "iteration: 41700 loss: 0.0017 scmap loss: 0.0016 locref loss: 0.0000 limb loss: 0.0001 lr: 1e-05\n",
            "iteration: 41800 loss: 0.0017 scmap loss: 0.0016 locref loss: 0.0000 limb loss: 0.0001 lr: 1e-05\n",
            "iteration: 41900 loss: 0.0018 scmap loss: 0.0017 locref loss: 0.0000 limb loss: 0.0001 lr: 1e-05\n",
            "iteration: 42000 loss: 0.0017 scmap loss: 0.0016 locref loss: 0.0000 limb loss: 0.0001 lr: 1e-05\n",
            "iteration: 42100 loss: 0.0018 scmap loss: 0.0017 locref loss: 0.0000 limb loss: 0.0001 lr: 1e-05\n",
            "iteration: 42200 loss: 0.0017 scmap loss: 0.0016 locref loss: 0.0000 limb loss: 0.0001 lr: 1e-05\n",
            "iteration: 42300 loss: 0.0017 scmap loss: 0.0016 locref loss: 0.0000 limb loss: 0.0001 lr: 1e-05\n",
            "iteration: 42400 loss: 0.0019 scmap loss: 0.0018 locref loss: 0.0000 limb loss: 0.0001 lr: 1e-05\n",
            "iteration: 42500 loss: 0.0016 scmap loss: 0.0015 locref loss: 0.0000 limb loss: 0.0001 lr: 1e-05\n",
            "iteration: 42600 loss: 0.0019 scmap loss: 0.0018 locref loss: 0.0000 limb loss: 0.0001 lr: 1e-05\n",
            "iteration: 42700 loss: 0.0017 scmap loss: 0.0016 locref loss: 0.0000 limb loss: 0.0001 lr: 1e-05\n",
            "iteration: 42800 loss: 0.0016 scmap loss: 0.0015 locref loss: 0.0000 limb loss: 0.0001 lr: 1e-05\n",
            "iteration: 42900 loss: 0.0016 scmap loss: 0.0015 locref loss: 0.0000 limb loss: 0.0001 lr: 1e-05\n",
            "iteration: 43000 loss: 0.0019 scmap loss: 0.0017 locref loss: 0.0000 limb loss: 0.0001 lr: 1e-05\n",
            "iteration: 43100 loss: 0.0018 scmap loss: 0.0017 locref loss: 0.0000 limb loss: 0.0001 lr: 1e-05\n",
            "iteration: 43200 loss: 0.0018 scmap loss: 0.0016 locref loss: 0.0000 limb loss: 0.0001 lr: 1e-05\n",
            "iteration: 43300 loss: 0.0017 scmap loss: 0.0016 locref loss: 0.0000 limb loss: 0.0001 lr: 1e-05\n",
            "iteration: 43400 loss: 0.0018 scmap loss: 0.0017 locref loss: 0.0000 limb loss: 0.0001 lr: 1e-05\n",
            "iteration: 43500 loss: 0.0017 scmap loss: 0.0016 locref loss: 0.0000 limb loss: 0.0001 lr: 1e-05\n",
            "iteration: 43600 loss: 0.0018 scmap loss: 0.0017 locref loss: 0.0000 limb loss: 0.0001 lr: 1e-05\n",
            "iteration: 43700 loss: 0.0017 scmap loss: 0.0015 locref loss: 0.0000 limb loss: 0.0001 lr: 1e-05\n",
            "iteration: 43800 loss: 0.0017 scmap loss: 0.0016 locref loss: 0.0000 limb loss: 0.0001 lr: 1e-05\n",
            "iteration: 43900 loss: 0.0017 scmap loss: 0.0016 locref loss: 0.0000 limb loss: 0.0001 lr: 1e-05\n",
            "iteration: 44000 loss: 0.0018 scmap loss: 0.0017 locref loss: 0.0000 limb loss: 0.0001 lr: 1e-05\n",
            "iteration: 44100 loss: 0.0017 scmap loss: 0.0016 locref loss: 0.0000 limb loss: 0.0001 lr: 1e-05\n",
            "iteration: 44200 loss: 0.0017 scmap loss: 0.0016 locref loss: 0.0000 limb loss: 0.0001 lr: 1e-05\n",
            "iteration: 44300 loss: 0.0018 scmap loss: 0.0016 locref loss: 0.0000 limb loss: 0.0001 lr: 1e-05\n",
            "iteration: 44400 loss: 0.0017 scmap loss: 0.0016 locref loss: 0.0000 limb loss: 0.0001 lr: 1e-05\n",
            "iteration: 44500 loss: 0.0017 scmap loss: 0.0016 locref loss: 0.0000 limb loss: 0.0001 lr: 1e-05\n",
            "iteration: 44600 loss: 0.0018 scmap loss: 0.0017 locref loss: 0.0000 limb loss: 0.0001 lr: 1e-05\n",
            "iteration: 44700 loss: 0.0017 scmap loss: 0.0015 locref loss: 0.0000 limb loss: 0.0001 lr: 1e-05\n",
            "iteration: 44800 loss: 0.0016 scmap loss: 0.0015 locref loss: 0.0000 limb loss: 0.0001 lr: 1e-05\n",
            "iteration: 44900 loss: 0.0017 scmap loss: 0.0016 locref loss: 0.0000 limb loss: 0.0001 lr: 1e-05\n",
            "iteration: 45000 loss: 0.0017 scmap loss: 0.0015 locref loss: 0.0000 limb loss: 0.0001 lr: 1e-05\n",
            "iteration: 45100 loss: 0.0016 scmap loss: 0.0015 locref loss: 0.0000 limb loss: 0.0001 lr: 1e-05\n",
            "iteration: 45200 loss: 0.0017 scmap loss: 0.0015 locref loss: 0.0000 limb loss: 0.0001 lr: 1e-05\n",
            "iteration: 45300 loss: 0.0017 scmap loss: 0.0016 locref loss: 0.0000 limb loss: 0.0001 lr: 1e-05\n",
            "iteration: 45400 loss: 0.0017 scmap loss: 0.0015 locref loss: 0.0000 limb loss: 0.0001 lr: 1e-05\n",
            "iteration: 45500 loss: 0.0017 scmap loss: 0.0015 locref loss: 0.0000 limb loss: 0.0001 lr: 1e-05\n",
            "iteration: 45600 loss: 0.0017 scmap loss: 0.0016 locref loss: 0.0000 limb loss: 0.0001 lr: 1e-05\n",
            "iteration: 45700 loss: 0.0017 scmap loss: 0.0016 locref loss: 0.0000 limb loss: 0.0001 lr: 1e-05\n",
            "iteration: 45800 loss: 0.0017 scmap loss: 0.0016 locref loss: 0.0000 limb loss: 0.0001 lr: 1e-05\n",
            "iteration: 45900 loss: 0.0017 scmap loss: 0.0015 locref loss: 0.0000 limb loss: 0.0001 lr: 1e-05\n",
            "iteration: 46000 loss: 0.0017 scmap loss: 0.0016 locref loss: 0.0000 limb loss: 0.0001 lr: 1e-05\n",
            "iteration: 46100 loss: 0.0016 scmap loss: 0.0015 locref loss: 0.0000 limb loss: 0.0001 lr: 1e-05\n",
            "iteration: 46200 loss: 0.0016 scmap loss: 0.0015 locref loss: 0.0000 limb loss: 0.0001 lr: 1e-05\n",
            "iteration: 46300 loss: 0.0017 scmap loss: 0.0016 locref loss: 0.0000 limb loss: 0.0001 lr: 1e-05\n",
            "iteration: 46400 loss: 0.0017 scmap loss: 0.0016 locref loss: 0.0000 limb loss: 0.0001 lr: 1e-05\n",
            "iteration: 46500 loss: 0.0016 scmap loss: 0.0015 locref loss: 0.0000 limb loss: 0.0001 lr: 1e-05\n",
            "iteration: 46600 loss: 0.0016 scmap loss: 0.0015 locref loss: 0.0000 limb loss: 0.0001 lr: 1e-05\n",
            "iteration: 46700 loss: 0.0019 scmap loss: 0.0017 locref loss: 0.0000 limb loss: 0.0001 lr: 1e-05\n",
            "iteration: 46800 loss: 0.0016 scmap loss: 0.0015 locref loss: 0.0000 limb loss: 0.0001 lr: 1e-05\n",
            "iteration: 46900 loss: 0.0017 scmap loss: 0.0015 locref loss: 0.0000 limb loss: 0.0001 lr: 1e-05\n",
            "iteration: 47000 loss: 0.0017 scmap loss: 0.0016 locref loss: 0.0000 limb loss: 0.0001 lr: 1e-05\n",
            "iteration: 47100 loss: 0.0017 scmap loss: 0.0016 locref loss: 0.0000 limb loss: 0.0001 lr: 1e-05\n",
            "iteration: 47200 loss: 0.0017 scmap loss: 0.0015 locref loss: 0.0000 limb loss: 0.0001 lr: 1e-05\n",
            "iteration: 47300 loss: 0.0017 scmap loss: 0.0015 locref loss: 0.0000 limb loss: 0.0001 lr: 1e-05\n",
            "iteration: 47400 loss: 0.0018 scmap loss: 0.0016 locref loss: 0.0000 limb loss: 0.0001 lr: 1e-05\n",
            "iteration: 47500 loss: 0.0016 scmap loss: 0.0015 locref loss: 0.0000 limb loss: 0.0001 lr: 1e-05\n",
            "iteration: 47600 loss: 0.0017 scmap loss: 0.0016 locref loss: 0.0000 limb loss: 0.0001 lr: 1e-05\n",
            "iteration: 47700 loss: 0.0016 scmap loss: 0.0015 locref loss: 0.0000 limb loss: 0.0001 lr: 1e-05\n",
            "iteration: 47800 loss: 0.0017 scmap loss: 0.0016 locref loss: 0.0000 limb loss: 0.0001 lr: 1e-05\n",
            "iteration: 47900 loss: 0.0017 scmap loss: 0.0016 locref loss: 0.0000 limb loss: 0.0001 lr: 1e-05\n",
            "iteration: 48000 loss: 0.0017 scmap loss: 0.0016 locref loss: 0.0000 limb loss: 0.0001 lr: 1e-05\n",
            "iteration: 48100 loss: 0.0016 scmap loss: 0.0015 locref loss: 0.0000 limb loss: 0.0001 lr: 1e-05\n",
            "iteration: 48200 loss: 0.0017 scmap loss: 0.0016 locref loss: 0.0000 limb loss: 0.0001 lr: 1e-05\n",
            "iteration: 48300 loss: 0.0015 scmap loss: 0.0014 locref loss: 0.0000 limb loss: 0.0001 lr: 1e-05\n",
            "iteration: 48400 loss: 0.0015 scmap loss: 0.0014 locref loss: 0.0000 limb loss: 0.0001 lr: 1e-05\n",
            "iteration: 48500 loss: 0.0017 scmap loss: 0.0016 locref loss: 0.0000 limb loss: 0.0001 lr: 1e-05\n",
            "iteration: 48600 loss: 0.0016 scmap loss: 0.0015 locref loss: 0.0000 limb loss: 0.0001 lr: 1e-05\n",
            "iteration: 48700 loss: 0.0017 scmap loss: 0.0015 locref loss: 0.0000 limb loss: 0.0001 lr: 1e-05\n",
            "iteration: 48800 loss: 0.0017 scmap loss: 0.0015 locref loss: 0.0000 limb loss: 0.0001 lr: 1e-05\n",
            "iteration: 48900 loss: 0.0015 scmap loss: 0.0014 locref loss: 0.0000 limb loss: 0.0001 lr: 1e-05\n",
            "iteration: 49000 loss: 0.0016 scmap loss: 0.0014 locref loss: 0.0000 limb loss: 0.0001 lr: 1e-05\n",
            "iteration: 49100 loss: 0.0017 scmap loss: 0.0016 locref loss: 0.0000 limb loss: 0.0001 lr: 1e-05\n",
            "iteration: 49200 loss: 0.0017 scmap loss: 0.0015 locref loss: 0.0000 limb loss: 0.0001 lr: 1e-05\n",
            "iteration: 49300 loss: 0.0016 scmap loss: 0.0015 locref loss: 0.0000 limb loss: 0.0001 lr: 1e-05\n",
            "iteration: 49400 loss: 0.0017 scmap loss: 0.0016 locref loss: 0.0000 limb loss: 0.0001 lr: 1e-05\n",
            "iteration: 49500 loss: 0.0016 scmap loss: 0.0015 locref loss: 0.0000 limb loss: 0.0001 lr: 1e-05\n",
            "iteration: 49600 loss: 0.0016 scmap loss: 0.0015 locref loss: 0.0000 limb loss: 0.0001 lr: 1e-05\n",
            "iteration: 49700 loss: 0.0017 scmap loss: 0.0016 locref loss: 0.0000 limb loss: 0.0001 lr: 1e-05\n",
            "iteration: 49800 loss: 0.0016 scmap loss: 0.0015 locref loss: 0.0000 limb loss: 0.0001 lr: 1e-05\n",
            "iteration: 49900 loss: 0.0017 scmap loss: 0.0016 locref loss: 0.0000 limb loss: 0.0001 lr: 1e-05\n",
            "iteration: 50000 loss: 0.0016 scmap loss: 0.0015 locref loss: 0.0000 limb loss: 0.0001 lr: 1e-05\n"
          ]
        },
        {
          "output_type": "stream",
          "name": "stdout",
          "text": [
            "The network is now trained and ready to evaluate. Use the function 'evaluate_network' to evaluate the network.\n"
          ]
        },
        {
          "output_type": "stream",
          "name": "stderr",
          "text": [
            "Exception in thread Thread-13:\n",
            "Traceback (most recent call last):\n",
            "  File \"/usr/lib/python3.7/threading.py\", line 926, in _bootstrap_inner\n",
            "    self.run()\n",
            "  File \"/usr/lib/python3.7/threading.py\", line 870, in run\n",
            "    self._target(*self._args, **self._kwargs)\n",
            "  File \"/usr/local/lib/python3.7/dist-packages/deeplabcut/pose_estimation_tensorflow/core/train.py\", line 83, in load_and_enqueue\n",
            "    sess.run(enqueue_op, feed_dict=food)\n",
            "  File \"/usr/local/lib/python3.7/dist-packages/tensorflow/python/client/session.py\", line 968, in run\n",
            "    run_metadata_ptr)\n",
            "  File \"/usr/local/lib/python3.7/dist-packages/tensorflow/python/client/session.py\", line 1115, in _run\n",
            "    raise RuntimeError('Attempted to use a closed Session.')\n",
            "RuntimeError: Attempted to use a closed Session.\n",
            "\n"
          ]
        }
      ],
      "source": [
        "#let's also change the display and save_iters just in case Colab takes away the GPU... \n",
        "#Typically, you want to train to 50,000 - 200K iterations.\n",
        "#more info and there are more things you can set: https://github.com/DeepLabCut/DeepLabCut/blob/master/docs/functionDetails.md#g-train-the-network\n",
        "\n",
        "deeplabcut.train_network(path_config_file, shuffle=shuffle, displayiters=100,saveiters=10000, maxiters=50000, allow_growth=True)\n",
        "\n",
        "#this will run until you stop it (CTRL+C), or hit \"STOP\" icon, or when it hits the end (default, 50K iterations). \n",
        "#Whichever you chose, you will see what looks like an error message, but it's not an error - don't worry...."
      ]
    },
    {
      "cell_type": "markdown",
      "metadata": {
        "id": "RiDwIVf5-3H_"
      },
      "source": [
        "**When you hit \"STOP\" you will get a KeyInterrupt \"error\"! No worries! :)**"
      ]
    },
    {
      "cell_type": "markdown",
      "metadata": {
        "id": "xZygsb2DoEJc"
      },
      "source": [
        "## Start evaluating: \n",
        "\n",
        " - First, we evaluate the pose estimation performance.\n",
        "\n",
        "- This funtion evaluates a trained model for a specific shuffle/shuffles at a particular state or all the states on the data set (images) and stores the results as .5 and .csv file in a subdirectory under **evaluation-results**\n",
        "\n",
        "- If the scoremaps do not look accurate, don't proceed to tracklet assembly; please consider (1) adding more data, (2) adding more bodyparts!\n",
        "\n",
        "- more info: https://deeplabcut.github.io/DeepLabCut/docs/maDLC_UserGuide.html#evaluate-the-trained-network\n",
        "\n",
        "Here is an example of what you'd aim to see before proceeding:\n",
        "\n",
        "![alt text](https://images.squarespace-cdn.com/content/v1/57f6d51c9f74566f55ecf271/1590535809087-X655WY9W1MW1MY1I7DHE/ke17ZwdGBToddI8pDm48kBoswZhKnUtAF7-bTXgw67EUqsxRUqqbr1mOJYKfIPR7LoDQ9mXPOjoJoqy81S2I8N_N4V1vUb5AoIIIbLZhVYxCRW4BPu10St3TBAUQYVKc5tTP1cnANTUwNNPnYFjIp6XbP9N1GxIgAkxvBVqt0UvLpPHYwvNQTwHg8f_Zu8ZF/evaluation.png?format=1000w)\n",
        "\n"
      ]
    },
    {
      "cell_type": "code",
      "execution_count": 8,
      "metadata": {
        "id": "nv4zlbrnoEJg",
        "colab": {
          "base_uri": "https://localhost:8080/"
        },
        "outputId": "1a646682-449c-41b9-8467-9c121757a260"
      },
      "outputs": [
        {
          "output_type": "stream",
          "name": "stderr",
          "text": [
            "Config:\n",
            "{'all_joints': [[0], [1], [2]],\n",
            " 'all_joints_names': ['head', 'left_wing', 'right_wing'],\n",
            " 'batch_size': 1,\n",
            " 'crop_pad': 0,\n",
            " 'dataset': 'training-datasets/iteration-0/UnaugmentedDataSet_Fly_fight_analysisFeb23/Fly_fight_analysis_Ricardo '\n",
            "            'Diaz-Rincon95shuffle1.pickle',\n",
            " 'dataset_type': 'multi-animal-imgaug',\n",
            " 'deterministic': False,\n",
            " 'fg_fraction': 0.25,\n",
            " 'global_scale': 0.8,\n",
            " 'init_weights': '/usr/local/lib/python3.7/dist-packages/deeplabcut/pose_estimation_tensorflow/models/pretrained/resnet_v1_50.ckpt',\n",
            " 'intermediate_supervision': False,\n",
            " 'intermediate_supervision_layer': 12,\n",
            " 'location_refinement': True,\n",
            " 'locref_huber_loss': True,\n",
            " 'locref_loss_weight': 1.0,\n",
            " 'locref_smooth': False,\n",
            " 'locref_stdev': 7.2801,\n",
            " 'log_dir': 'log',\n",
            " 'mean_pixel': [123.68, 116.779, 103.939],\n",
            " 'minconfidence': 0.01,\n",
            " 'mirror': False,\n",
            " 'multi_stage': True,\n",
            " 'net_type': 'resnet_50',\n",
            " 'nmsradius': 5.0,\n",
            " 'num_idchannel': 0,\n",
            " 'num_joints': 3,\n",
            " 'num_limbs': 3,\n",
            " 'optimizer': 'sgd',\n",
            " 'pairwise_huber_loss': True,\n",
            " 'pairwise_predict': False,\n",
            " 'partaffinityfield_graph': [[0, 1], [0, 2], [1, 2]],\n",
            " 'partaffinityfield_predict': True,\n",
            " 'regularize': False,\n",
            " 'scoremap_dir': 'test',\n",
            " 'shuffle': True,\n",
            " 'sigma': 1,\n",
            " 'snapshot_prefix': '/content/drive/My Drive/Fly_fight_analysis-Ricardo '\n",
            "                    'Diaz-Rincon-2022-02-23/dlc-models/iteration-0/Fly_fight_analysisFeb23-trainset95shuffle1/test/snapshot',\n",
            " 'stride': 8.0,\n",
            " 'weigh_negatives': False,\n",
            " 'weigh_only_present_joints': False,\n",
            " 'weigh_part_predictions': False,\n",
            " 'weight_decay': 0.0001}\n",
            "/usr/local/lib/python3.7/dist-packages/tensorflow/python/keras/engine/base_layer_v1.py:1694: UserWarning: `layer.apply` is deprecated and will be removed in a future version. Please use `layer.__call__` method instead.\n",
            "  warnings.warn('`layer.apply` is deprecated and '\n",
            "/usr/local/lib/python3.7/dist-packages/tf_slim/layers/layers.py:684: UserWarning: `layer.apply` is deprecated and will be removed in a future version. Please use `layer.__call__` method instead.\n",
            "  outputs = layer.apply(inputs, training=is_training)\n"
          ]
        },
        {
          "output_type": "stream",
          "name": "stdout",
          "text": [
            "Running  DLC_dlcrnetms5_Fly_fight_analysisFeb23shuffle1_50000  with # of trainingiterations: 50000\n",
            "Activating extracting of PAFs\n",
            "Network Evaluation underway...\n"
          ]
        },
        {
          "output_type": "stream",
          "name": "stderr",
          "text": [
            "40it [00:19,  2.06it/s]\n"
          ]
        },
        {
          "output_type": "stream",
          "name": "stdout",
          "text": [
            "Results for 50000 training iterations, training fraction of 95, and shuffle 1:\n",
            "Train error: 2.55 pixels. Test error: 3.54 pixels.\n",
            "With pcutoff of 0.6:\n",
            "Train error: 2.55 pixels. Test error: 3.54 pixels.\n",
            "##########################################\n",
            "Average Euclidean distance to GT per individual (in pixels)\n",
            "individuals\n",
            "W1_BF    2.337299\n",
            "W1_WF    2.659954\n",
            "W2_BF    2.747308\n",
            "W2_WF    2.594365\n",
            "W3_BF    2.821412\n",
            "W3_WF    2.563001\n",
            "Average Euclidean distance to GT per bodypart (in pixels)\n",
            "bodyparts\n",
            "head          2.762688\n",
            "left_wing     2.563501\n",
            "right_wing    2.458569\n",
            "Done and results stored for snapshot:  snapshot-50000\n",
            "Selecting best skeleton...\n",
            "Graph 1|2\n"
          ]
        },
        {
          "output_type": "stream",
          "name": "stderr",
          "text": [
            "100%|██████████| 40/40 [00:00<00:00, 641.70it/s]\n",
            "100%|██████████| 38/38 [00:00<00:00, 396.94it/s]\n",
            "100%|██████████| 2/2 [00:00<00:00, 254.59it/s]\n",
            "100%|██████████| 40/40 [00:00<00:00, 1532.53it/s]"
          ]
        },
        {
          "output_type": "stream",
          "name": "stdout",
          "text": [
            "Graph 2|2\n"
          ]
        },
        {
          "output_type": "stream",
          "name": "stderr",
          "text": [
            "\n",
            "100%|██████████| 40/40 [00:00<00:00, 563.34it/s]\n",
            "100%|██████████| 38/38 [00:00<00:00, 428.29it/s]\n",
            "100%|██████████| 2/2 [00:00<00:00, 300.49it/s]\n",
            "100%|██████████| 40/40 [00:00<00:00, 1709.08it/s]\n",
            "Config:\n",
            "{'all_joints': [[0], [1], [2]],\n",
            " 'all_joints_names': ['head', 'left_wing', 'right_wing'],\n",
            " 'batch_size': 1,\n",
            " 'crop_pad': 0,\n",
            " 'dataset': 'training-datasets/iteration-0/UnaugmentedDataSet_Fly_fight_analysisFeb23/Fly_fight_analysis_Ricardo '\n",
            "            'Diaz-Rincon95shuffle1.pickle',\n",
            " 'dataset_type': 'multi-animal-imgaug',\n",
            " 'deterministic': False,\n",
            " 'fg_fraction': 0.25,\n",
            " 'global_scale': 0.8,\n",
            " 'init_weights': '/usr/local/lib/python3.7/dist-packages/deeplabcut/pose_estimation_tensorflow/models/pretrained/resnet_v1_50.ckpt',\n",
            " 'intermediate_supervision': False,\n",
            " 'intermediate_supervision_layer': 12,\n",
            " 'location_refinement': True,\n",
            " 'locref_huber_loss': True,\n",
            " 'locref_loss_weight': 1.0,\n",
            " 'locref_smooth': False,\n",
            " 'locref_stdev': 7.2801,\n",
            " 'log_dir': 'log',\n",
            " 'mean_pixel': [123.68, 116.779, 103.939],\n",
            " 'minconfidence': 0.01,\n",
            " 'mirror': False,\n",
            " 'multi_stage': True,\n",
            " 'net_type': 'resnet_50',\n",
            " 'nmsradius': 5.0,\n",
            " 'num_idchannel': 0,\n",
            " 'num_joints': 3,\n",
            " 'num_limbs': 3,\n",
            " 'optimizer': 'sgd',\n",
            " 'paf_best': [1, 0, 2],\n",
            " 'pairwise_huber_loss': True,\n",
            " 'pairwise_predict': False,\n",
            " 'partaffinityfield_graph': [[0, 1], [0, 2], [1, 2]],\n",
            " 'partaffinityfield_predict': True,\n",
            " 'regularize': False,\n",
            " 'scoremap_dir': 'test',\n",
            " 'shuffle': True,\n",
            " 'sigma': 1,\n",
            " 'snapshot_prefix': '/content/drive/My Drive/Fly_fight_analysis-Ricardo '\n",
            "                    'Diaz-Rincon-2022-02-23/dlc-models/iteration-0/Fly_fight_analysisFeb23-trainset95shuffle1/test/snapshot',\n",
            " 'stride': 8.0,\n",
            " 'weigh_negatives': False,\n",
            " 'weigh_only_present_joints': False,\n",
            " 'weigh_part_predictions': False,\n",
            " 'weight_decay': 0.0001}\n",
            "/usr/local/lib/python3.7/dist-packages/tensorflow/python/keras/engine/base_layer_v1.py:1694: UserWarning: `layer.apply` is deprecated and will be removed in a future version. Please use `layer.__call__` method instead.\n",
            "  warnings.warn('`layer.apply` is deprecated and '\n",
            "/usr/local/lib/python3.7/dist-packages/tf_slim/layers/layers.py:684: UserWarning: `layer.apply` is deprecated and will be removed in a future version. Please use `layer.__call__` method instead.\n",
            "  outputs = layer.apply(inputs, training=is_training)\n"
          ]
        },
        {
          "output_type": "stream",
          "name": "stdout",
          "text": [
            "Activating extracting of PAFs\n",
            "Analyzing data...\n"
          ]
        },
        {
          "output_type": "stream",
          "name": "stderr",
          "text": [
            "1it [00:00,  2.64it/s]\n"
          ]
        },
        {
          "output_type": "stream",
          "name": "stdout",
          "text": [
            "Saving plots...\n"
          ]
        },
        {
          "output_type": "stream",
          "name": "stderr",
          "text": [
            "100%|██████████| 1/1 [00:01<00:00,  1.89s/it]\n"
          ]
        }
      ],
      "source": [
        "#let's evaluate first:\n",
        "deeplabcut.evaluate_network(path_config_file,Shuffles=[shuffle], plotting=True)\n",
        "#plot a few scoremaps:\n",
        "deeplabcut.extract_save_all_maps(path_config_file, shuffle=shuffle, Indices=[0])"
      ]
    },
    {
      "cell_type": "markdown",
      "metadata": {
        "id": "fYlGbloolDU2"
      },
      "source": [
        "IF these images, numbers, and maps do not look good, do not proceed. You should increase the diversity and number of frames you label, and re-create a training dataset and re-train! "
      ]
    },
    {
      "cell_type": "markdown",
      "metadata": {
        "id": "OVFLSKKfoEJk"
      },
      "source": [
        "## Start Analyzing videos: \n",
        "This function analyzes the new video. The user can choose the best model from the evaluation results and specify the correct snapshot index for the variable **snapshotindex** in the **config.yaml** file. Otherwise, by default the most recent snapshot is used to analyse the video.\n",
        "\n",
        "The results are stored in a pickle file in the same directory where the video resides. "
      ]
    },
    {
      "cell_type": "code",
      "execution_count": 10,
      "metadata": {
        "id": "Y_LZiS_0oEJl",
        "colab": {
          "base_uri": "https://localhost:8080/",
          "height": 1000
        },
        "outputId": "c762357e-04d4-4af7-ea1f-fd4b8db51a7f"
      },
      "outputs": [
        {
          "output_type": "stream",
          "name": "stderr",
          "text": [
            "Config:\n",
            "{'all_joints': [[0], [1], [2]],\n",
            " 'all_joints_names': ['head', 'left_wing', 'right_wing'],\n",
            " 'batch_size': 1,\n",
            " 'crop_pad': 0,\n",
            " 'dataset': 'training-datasets/iteration-0/UnaugmentedDataSet_Fly_fight_analysisFeb23/Fly_fight_analysis_Ricardo '\n",
            "            'Diaz-Rincon95shuffle1.pickle',\n",
            " 'dataset_type': 'multi-animal-imgaug',\n",
            " 'deterministic': False,\n",
            " 'fg_fraction': 0.25,\n",
            " 'global_scale': 0.8,\n",
            " 'init_weights': '/usr/local/lib/python3.7/dist-packages/deeplabcut/pose_estimation_tensorflow/models/pretrained/resnet_v1_50.ckpt',\n",
            " 'intermediate_supervision': False,\n",
            " 'intermediate_supervision_layer': 12,\n",
            " 'location_refinement': True,\n",
            " 'locref_huber_loss': True,\n",
            " 'locref_loss_weight': 1.0,\n",
            " 'locref_smooth': False,\n",
            " 'locref_stdev': 7.2801,\n",
            " 'log_dir': 'log',\n",
            " 'mean_pixel': [123.68, 116.779, 103.939],\n",
            " 'minconfidence': 0.01,\n",
            " 'mirror': False,\n",
            " 'multi_stage': True,\n",
            " 'net_type': 'resnet_50',\n",
            " 'nmsradius': 5.0,\n",
            " 'num_idchannel': 0,\n",
            " 'num_joints': 3,\n",
            " 'num_limbs': 3,\n",
            " 'optimizer': 'sgd',\n",
            " 'paf_best': [1, 0, 2],\n",
            " 'pairwise_huber_loss': True,\n",
            " 'pairwise_predict': False,\n",
            " 'partaffinityfield_graph': [[0, 1], [0, 2], [1, 2]],\n",
            " 'partaffinityfield_predict': True,\n",
            " 'regularize': False,\n",
            " 'scoremap_dir': 'test',\n",
            " 'shuffle': True,\n",
            " 'sigma': 1,\n",
            " 'snapshot_prefix': '/content/drive/My Drive/Fly_fight_analysis-Ricardo '\n",
            "                    'Diaz-Rincon-2022-02-23/dlc-models/iteration-0/Fly_fight_analysisFeb23-trainset95shuffle1/test/snapshot',\n",
            " 'stride': 8.0,\n",
            " 'weigh_negatives': False,\n",
            " 'weigh_only_present_joints': False,\n",
            " 'weigh_part_predictions': False,\n",
            " 'weight_decay': 0.0001}\n"
          ]
        },
        {
          "output_type": "stream",
          "name": "stdout",
          "text": [
            "Start Analyzing my video(s)!\n",
            "Using snapshot-50000 for model /content/drive/My Drive/Fly_fight_analysis-Ricardo Diaz-Rincon-2022-02-23/dlc-models/iteration-0/Fly_fight_analysisFeb23-trainset95shuffle1\n"
          ]
        },
        {
          "output_type": "stream",
          "name": "stderr",
          "text": [
            "/usr/local/lib/python3.7/dist-packages/tensorflow/python/keras/engine/base_layer_v1.py:1694: UserWarning: `layer.apply` is deprecated and will be removed in a future version. Please use `layer.__call__` method instead.\n",
            "  warnings.warn('`layer.apply` is deprecated and '\n",
            "/usr/local/lib/python3.7/dist-packages/tf_slim/layers/layers.py:684: UserWarning: `layer.apply` is deprecated and will be removed in a future version. Please use `layer.__call__` method instead.\n",
            "  outputs = layer.apply(inputs, training=is_training)\n"
          ]
        },
        {
          "output_type": "stream",
          "name": "stdout",
          "text": [
            "Activating extracting of PAFs\n"
          ]
        },
        {
          "output_type": "stream",
          "name": "stderr",
          "text": [
            "Config:\n",
            "{'all_joints': [[0], [1], [2]],\n",
            " 'all_joints_names': ['head', 'left_wing', 'right_wing'],\n",
            " 'batch_size': 1,\n",
            " 'crop_pad': 0,\n",
            " 'dataset': 'training-datasets/iteration-0/UnaugmentedDataSet_Fly_fight_analysisFeb23/Fly_fight_analysis_Ricardo '\n",
            "            'Diaz-Rincon95shuffle1.pickle',\n",
            " 'dataset_type': 'multi-animal-imgaug',\n",
            " 'deterministic': False,\n",
            " 'fg_fraction': 0.25,\n",
            " 'global_scale': 0.8,\n",
            " 'init_weights': '/usr/local/lib/python3.7/dist-packages/deeplabcut/pose_estimation_tensorflow/models/pretrained/resnet_v1_50.ckpt',\n",
            " 'intermediate_supervision': False,\n",
            " 'intermediate_supervision_layer': 12,\n",
            " 'location_refinement': True,\n",
            " 'locref_huber_loss': True,\n",
            " 'locref_loss_weight': 1.0,\n",
            " 'locref_smooth': False,\n",
            " 'locref_stdev': 7.2801,\n",
            " 'log_dir': 'log',\n",
            " 'mean_pixel': [123.68, 116.779, 103.939],\n",
            " 'minconfidence': 0.01,\n",
            " 'mirror': False,\n",
            " 'multi_stage': True,\n",
            " 'net_type': 'resnet_50',\n",
            " 'nmsradius': 5.0,\n",
            " 'num_idchannel': 0,\n",
            " 'num_joints': 3,\n",
            " 'num_limbs': 3,\n",
            " 'optimizer': 'sgd',\n",
            " 'paf_best': [1, 0, 2],\n",
            " 'pairwise_huber_loss': True,\n",
            " 'pairwise_predict': False,\n",
            " 'partaffinityfield_graph': [[0, 1], [0, 2], [1, 2]],\n",
            " 'partaffinityfield_predict': True,\n",
            " 'regularize': False,\n",
            " 'scoremap_dir': 'test',\n",
            " 'shuffle': True,\n",
            " 'sigma': 1,\n",
            " 'snapshot_prefix': '/content/drive/My Drive/Fly_fight_analysis-Ricardo '\n",
            "                    'Diaz-Rincon-2022-02-23/dlc-models/iteration-0/Fly_fight_analysisFeb23-trainset95shuffle1/test/snapshot',\n",
            " 'stride': 8.0,\n",
            " 'weigh_negatives': False,\n",
            " 'weigh_only_present_joints': False,\n",
            " 'weigh_part_predictions': False,\n",
            " 'weight_decay': 0.0001}\n"
          ]
        },
        {
          "output_type": "stream",
          "name": "stdout",
          "text": [
            "Analyzing all the videos in the directory...\n",
            "Starting to analyze %  /content/drive/My Drive/Fly_fight_analysis-Ricardo Diaz-Rincon-2022-02-23/videos/00004.mp4\n",
            "Video already analyzed! /content/drive/My Drive/Fly_fight_analysis-Ricardo Diaz-Rincon-2022-02-23/videos/00004DLC_dlcrnetms5_Fly_fight_analysisFeb23shuffle1_50000.h5\n",
            "Using snapshot-50000 for model /content/drive/My Drive/Fly_fight_analysis-Ricardo Diaz-Rincon-2022-02-23/dlc-models/iteration-0/Fly_fight_analysisFeb23-trainset95shuffle1\n",
            "Processing...  /content/drive/My Drive/Fly_fight_analysis-Ricardo Diaz-Rincon-2022-02-23/videos/00004.mp4\n",
            "Tracklets already computed /content/drive/My Drive/Fly_fight_analysis-Ricardo Diaz-Rincon-2022-02-23/videos/00004DLC_dlcrnetms5_Fly_fight_analysisFeb23shuffle1_50000_el.pickle\n",
            "Set overwrite = True to overwrite.\n",
            "The tracklets were created (i.e., under the hood deeplabcut.convert_detections2tracklets was run). Now you can 'refine_tracklets' in the GUI, or run 'deeplabcut.stitch_tracklets'.\n",
            "Processing...  /content/drive/My Drive/Fly_fight_analysis-Ricardo Diaz-Rincon-2022-02-23/videos/00004.mp4\n"
          ]
        },
        {
          "output_type": "stream",
          "name": "stderr",
          "text": [
            "100%|██████████| 1/1 [00:00<00:00, 6808.94it/s]\n",
            "/usr/local/lib/python3.7/dist-packages/deeplabcut/refine_training_dataset/stitch.py:671: UserWarning: No optimal solution found. Employing black magic...\n",
            "  warnings.warn(\"No optimal solution found. Employing black magic...\")\n"
          ]
        },
        {
          "output_type": "error",
          "ename": "ValueError",
          "evalue": "ignored",
          "traceback": [
            "\u001b[0;31m---------------------------------------------------------------------------\u001b[0m",
            "\u001b[0;31mNetworkXUnfeasible\u001b[0m                        Traceback (most recent call last)",
            "\u001b[0;32m/usr/local/lib/python3.7/dist-packages/deeplabcut/refine_training_dataset/stitch.py\u001b[0m in \u001b[0;36mstitch\u001b[0;34m(self, add_back_residuals)\u001b[0m\n\u001b[1;32m    667\u001b[0m         \u001b[0;32mtry\u001b[0m\u001b[0;34m:\u001b[0m\u001b[0;34m\u001b[0m\u001b[0;34m\u001b[0m\u001b[0m\n\u001b[0;32m--> 668\u001b[0;31m             \u001b[0m_\u001b[0m\u001b[0;34m,\u001b[0m \u001b[0mself\u001b[0m\u001b[0;34m.\u001b[0m\u001b[0mflow\u001b[0m \u001b[0;34m=\u001b[0m \u001b[0mnx\u001b[0m\u001b[0;34m.\u001b[0m\u001b[0mcapacity_scaling\u001b[0m\u001b[0;34m(\u001b[0m\u001b[0mself\u001b[0m\u001b[0;34m.\u001b[0m\u001b[0mG\u001b[0m\u001b[0;34m)\u001b[0m\u001b[0;34m\u001b[0m\u001b[0;34m\u001b[0m\u001b[0m\n\u001b[0m\u001b[1;32m    669\u001b[0m             \u001b[0mself\u001b[0m\u001b[0;34m.\u001b[0m\u001b[0mpaths\u001b[0m \u001b[0;34m=\u001b[0m \u001b[0mself\u001b[0m\u001b[0;34m.\u001b[0m\u001b[0mreconstruct_paths\u001b[0m\u001b[0;34m(\u001b[0m\u001b[0;34m)\u001b[0m\u001b[0;34m\u001b[0m\u001b[0;34m\u001b[0m\u001b[0m\n",
            "\u001b[0;32m/usr/local/lib/python3.7/dist-packages/networkx/algorithms/flow/capacityscaling.py\u001b[0m in \u001b[0;36mcapacity_scaling\u001b[0;34m(G, demand, capacity, weight, heap)\u001b[0m\n\u001b[1;32m    393\u001b[0m     \u001b[0;32mif\u001b[0m \u001b[0many\u001b[0m\u001b[0;34m(\u001b[0m\u001b[0mR\u001b[0m\u001b[0;34m.\u001b[0m\u001b[0mnodes\u001b[0m\u001b[0;34m[\u001b[0m\u001b[0mu\u001b[0m\u001b[0;34m]\u001b[0m\u001b[0;34m[\u001b[0m\u001b[0;34m\"excess\"\u001b[0m\u001b[0;34m]\u001b[0m \u001b[0;34m!=\u001b[0m \u001b[0;36m0\u001b[0m \u001b[0;32mfor\u001b[0m \u001b[0mu\u001b[0m \u001b[0;32min\u001b[0m \u001b[0mR\u001b[0m\u001b[0;34m)\u001b[0m\u001b[0;34m:\u001b[0m\u001b[0;34m\u001b[0m\u001b[0;34m\u001b[0m\u001b[0m\n\u001b[0;32m--> 394\u001b[0;31m         \u001b[0;32mraise\u001b[0m \u001b[0mnx\u001b[0m\u001b[0;34m.\u001b[0m\u001b[0mNetworkXUnfeasible\u001b[0m\u001b[0;34m(\u001b[0m\u001b[0;34m\"No flow satisfying all demands.\"\u001b[0m\u001b[0;34m)\u001b[0m\u001b[0;34m\u001b[0m\u001b[0;34m\u001b[0m\u001b[0m\n\u001b[0m\u001b[1;32m    395\u001b[0m \u001b[0;34m\u001b[0m\u001b[0m\n",
            "\u001b[0;31mNetworkXUnfeasible\u001b[0m: No flow satisfying all demands.",
            "\nDuring handling of the above exception, another exception occurred:\n",
            "\u001b[0;31mValueError\u001b[0m                                Traceback (most recent call last)",
            "\u001b[0;32m/usr/local/lib/python3.7/dist-packages/deeplabcut/refine_training_dataset/stitch.py\u001b[0m in \u001b[0;36mstitch\u001b[0;34m(self, add_back_residuals)\u001b[0m\n\u001b[1;32m    735\u001b[0m                 \u001b[0;31m# temporal constraint on what tracklets can be stitched together.\u001b[0m\u001b[0;34m\u001b[0m\u001b[0;34m\u001b[0m\u001b[0;34m\u001b[0m\u001b[0m\n\u001b[0;32m--> 736\u001b[0;31m                 \u001b[0mself\u001b[0m\u001b[0;34m.\u001b[0m\u001b[0mbuild_graph\u001b[0m\u001b[0;34m(\u001b[0m\u001b[0mlist\u001b[0m\u001b[0;34m(\u001b[0m\u001b[0mremaining_nodes\u001b[0m\u001b[0;34m)\u001b[0m\u001b[0;34m,\u001b[0m \u001b[0mmax_gap\u001b[0m\u001b[0;34m=\u001b[0m\u001b[0mnp\u001b[0m\u001b[0;34m.\u001b[0m\u001b[0minf\u001b[0m\u001b[0;34m)\u001b[0m\u001b[0;34m\u001b[0m\u001b[0;34m\u001b[0m\u001b[0m\n\u001b[0m\u001b[1;32m    737\u001b[0m                 \u001b[0mself\u001b[0m\u001b[0;34m.\u001b[0m\u001b[0mG\u001b[0m\u001b[0;34m.\u001b[0m\u001b[0mnodes\u001b[0m\u001b[0;34m[\u001b[0m\u001b[0;34m\"source\"\u001b[0m\u001b[0;34m]\u001b[0m\u001b[0;34m[\u001b[0m\u001b[0;34m\"demand\"\u001b[0m\u001b[0;34m]\u001b[0m \u001b[0;34m=\u001b[0m \u001b[0;34m-\u001b[0m\u001b[0mincomplete_tracks\u001b[0m\u001b[0;34m\u001b[0m\u001b[0;34m\u001b[0m\u001b[0m\n",
            "\u001b[0;32m/usr/local/lib/python3.7/dist-packages/deeplabcut/refine_training_dataset/stitch.py\u001b[0m in \u001b[0;36mbuild_graph\u001b[0;34m(self, nodes, max_gap, weight_func)\u001b[0m\n\u001b[1;32m    625\u001b[0m         nodes_in, nodes_out = zip(\n\u001b[0;32m--> 626\u001b[0;31m             \u001b[0;34m*\u001b[0m\u001b[0;34m[\u001b[0m\u001b[0mv\u001b[0m\u001b[0;34m.\u001b[0m\u001b[0mvalues\u001b[0m\u001b[0;34m(\u001b[0m\u001b[0;34m)\u001b[0m \u001b[0;32mfor\u001b[0m \u001b[0mk\u001b[0m\u001b[0;34m,\u001b[0m \u001b[0mv\u001b[0m \u001b[0;32min\u001b[0m \u001b[0mself\u001b[0m\u001b[0;34m.\u001b[0m\u001b[0m_mapping\u001b[0m\u001b[0;34m.\u001b[0m\u001b[0mitems\u001b[0m\u001b[0;34m(\u001b[0m\u001b[0;34m)\u001b[0m \u001b[0;32mif\u001b[0m \u001b[0mk\u001b[0m \u001b[0;32min\u001b[0m \u001b[0mnodes\u001b[0m\u001b[0;34m]\u001b[0m\u001b[0;34m\u001b[0m\u001b[0;34m\u001b[0m\u001b[0m\n\u001b[0m\u001b[1;32m    627\u001b[0m         )\n",
            "\u001b[0;31mValueError\u001b[0m: not enough values to unpack (expected 2, got 0)",
            "\nDuring handling of the above exception, another exception occurred:\n",
            "\u001b[0;31mValueError\u001b[0m                                Traceback (most recent call last)",
            "\u001b[0;32m<ipython-input-10-97b06ac486cc>\u001b[0m in \u001b[0;36m<module>\u001b[0;34m()\u001b[0m\n\u001b[1;32m      3\u001b[0m \u001b[0;31m# currently, if you run \"as is\" it assumes you have a video in the DLC project video folder!\u001b[0m\u001b[0;34m\u001b[0m\u001b[0;34m\u001b[0m\u001b[0;34m\u001b[0m\u001b[0m\n\u001b[1;32m      4\u001b[0m \u001b[0;34m\u001b[0m\u001b[0m\n\u001b[0;32m----> 5\u001b[0;31m \u001b[0mdeeplabcut\u001b[0m\u001b[0;34m.\u001b[0m\u001b[0manalyze_videos\u001b[0m\u001b[0;34m(\u001b[0m\u001b[0mpath_config_file\u001b[0m\u001b[0;34m,\u001b[0m\u001b[0mvideofile_path\u001b[0m\u001b[0;34m,\u001b[0m \u001b[0mshuffle\u001b[0m\u001b[0;34m=\u001b[0m\u001b[0mshuffle\u001b[0m\u001b[0;34m,\u001b[0m \u001b[0mvideotype\u001b[0m\u001b[0;34m=\u001b[0m\u001b[0mVideoType\u001b[0m\u001b[0;34m)\u001b[0m\u001b[0;34m\u001b[0m\u001b[0;34m\u001b[0m\u001b[0m\n\u001b[0m",
            "\u001b[0;32m/usr/local/lib/python3.7/dist-packages/deeplabcut/pose_estimation_tensorflow/predict_videos.py\u001b[0m in \u001b[0;36manalyze_videos\u001b[0;34m(config, videos, videotype, shuffle, trainingsetindex, gputouse, save_as_csv, destfolder, batchsize, cropping, TFGPUinference, dynamic, modelprefix, robust_nframes, allow_growth, use_shelve, auto_track, n_tracks, calibrate, identity_only)\u001b[0m\n\u001b[1;32m    363\u001b[0m                         \u001b[0mdestfolder\u001b[0m\u001b[0;34m=\u001b[0m\u001b[0mdestfolder\u001b[0m\u001b[0;34m,\u001b[0m\u001b[0;34m\u001b[0m\u001b[0;34m\u001b[0m\u001b[0m\n\u001b[1;32m    364\u001b[0m                         \u001b[0mn_tracks\u001b[0m\u001b[0;34m=\u001b[0m\u001b[0mn_tracks\u001b[0m\u001b[0;34m,\u001b[0m\u001b[0;34m\u001b[0m\u001b[0;34m\u001b[0m\u001b[0m\n\u001b[0;32m--> 365\u001b[0;31m                         \u001b[0mmodelprefix\u001b[0m\u001b[0;34m=\u001b[0m\u001b[0mmodelprefix\u001b[0m\u001b[0;34m,\u001b[0m\u001b[0;34m\u001b[0m\u001b[0;34m\u001b[0m\u001b[0m\n\u001b[0m\u001b[1;32m    366\u001b[0m                     )\n\u001b[1;32m    367\u001b[0m         \u001b[0;32melse\u001b[0m\u001b[0;34m:\u001b[0m\u001b[0;34m\u001b[0m\u001b[0;34m\u001b[0m\u001b[0m\n",
            "\u001b[0;32m/usr/local/lib/python3.7/dist-packages/deeplabcut/refine_training_dataset/stitch.py\u001b[0m in \u001b[0;36mstitch_tracklets\u001b[0;34m(config_path, videos, videotype, shuffle, trainingsetindex, n_tracks, min_length, split_tracklets, prestitch_residuals, max_gap, weight_func, destfolder, modelprefix, track_method, output_name)\u001b[0m\n\u001b[1;32m   1122\u001b[0m \u001b[0;34m\u001b[0m\u001b[0m\n\u001b[1;32m   1123\u001b[0m             \u001b[0mstitcher\u001b[0m\u001b[0;34m.\u001b[0m\u001b[0mbuild_graph\u001b[0m\u001b[0;34m(\u001b[0m\u001b[0mmax_gap\u001b[0m\u001b[0;34m=\u001b[0m\u001b[0mmax_gap\u001b[0m\u001b[0;34m,\u001b[0m \u001b[0mweight_func\u001b[0m\u001b[0;34m=\u001b[0m\u001b[0mweight_func\u001b[0m\u001b[0;34m)\u001b[0m\u001b[0;34m\u001b[0m\u001b[0;34m\u001b[0m\u001b[0m\n\u001b[0;32m-> 1124\u001b[0;31m             \u001b[0mstitcher\u001b[0m\u001b[0;34m.\u001b[0m\u001b[0mstitch\u001b[0m\u001b[0;34m(\u001b[0m\u001b[0;34m)\u001b[0m\u001b[0;34m\u001b[0m\u001b[0;34m\u001b[0m\u001b[0m\n\u001b[0m\u001b[1;32m   1125\u001b[0m             \u001b[0mstitcher\u001b[0m\u001b[0;34m.\u001b[0m\u001b[0mwrite_tracks\u001b[0m\u001b[0;34m(\u001b[0m\u001b[0moutput_name\u001b[0m\u001b[0;34m,\u001b[0m \u001b[0manimal_names\u001b[0m\u001b[0;34m)\u001b[0m\u001b[0;34m\u001b[0m\u001b[0;34m\u001b[0m\u001b[0m\n\u001b[1;32m   1126\u001b[0m         \u001b[0;32mexcept\u001b[0m \u001b[0mFileNotFoundError\u001b[0m \u001b[0;32mas\u001b[0m \u001b[0me\u001b[0m\u001b[0;34m:\u001b[0m\u001b[0;34m\u001b[0m\u001b[0;34m\u001b[0m\u001b[0m\n",
            "\u001b[0;32m/usr/local/lib/python3.7/dist-packages/deeplabcut/refine_training_dataset/stitch.py\u001b[0m in \u001b[0;36mstitch\u001b[0;34m(self, add_back_residuals)\u001b[0m\n\u001b[1;32m    746\u001b[0m             \u001b[0;32mif\u001b[0m \u001b[0mself\u001b[0m\u001b[0;34m.\u001b[0m\u001b[0mpaths\u001b[0m \u001b[0;32mis\u001b[0m \u001b[0;32mNone\u001b[0m\u001b[0;34m:\u001b[0m\u001b[0;34m\u001b[0m\u001b[0;34m\u001b[0m\u001b[0m\n\u001b[1;32m    747\u001b[0m                 raise ValueError(\n\u001b[0;32m--> 748\u001b[0;31m                     \u001b[0;34mf\"Could not reconstruct {self.n_tracks} tracks from the tracklets given.\"\u001b[0m\u001b[0;34m\u001b[0m\u001b[0;34m\u001b[0m\u001b[0m\n\u001b[0m\u001b[1;32m    749\u001b[0m                 )\n\u001b[1;32m    750\u001b[0m \u001b[0;34m\u001b[0m\u001b[0m\n",
            "\u001b[0;31mValueError\u001b[0m: Could not reconstruct 6 tracks from the tracklets given."
          ]
        }
      ],
      "source": [
        "print(\"Start Analyzing my video(s)!\")\n",
        "#EDIT OPTION: which video(s) do you want to analyze? You can pass a path or a folder:\n",
        "# currently, if you run \"as is\" it assumes you have a video in the DLC project video folder!\n",
        "\n",
        "deeplabcut.analyze_videos(path_config_file,videofile_path, shuffle=shuffle, videotype=VideoType)"
      ]
    },
    {
      "cell_type": "markdown",
      "metadata": {
        "id": "91xBLOcBzGxo"
      },
      "source": [
        "Optional: Now you have the option to check the raw dections before animals are assembled. To do so, pass a video path:"
      ]
    },
    {
      "cell_type": "code",
      "execution_count": 12,
      "metadata": {
        "id": "65mWwX5bTc5C",
        "colab": {
          "base_uri": "https://localhost:8080/"
        },
        "outputId": "cb4a47ce-ca8f-4fcd-8fa1-638b5d12d866"
      },
      "outputs": [
        {
          "output_type": "stream",
          "name": "stdout",
          "text": [
            "Detections already plotted,  /content/drive/My Drive/Fly_fight_analysis-Ricardo Diaz-Rincon-2022-02-23/videos/00004DLC_dlcrnetms5_Fly_fight_analysisFeb23shuffle1_50000_full.mp4\n"
          ]
        }
      ],
      "source": [
        "##### PROTIP: #####\n",
        "## look at the output video; if the pose estimation (i.e. key points)\n",
        "## don't look good, don't proceed with tracking - add more data to your training set and re-train!\n",
        "\n",
        "#EDIT: let's check a specific video (PLEASE EDIT VIDEO PATH):\n",
        "Specific_videofile = '/content/drive/My Drive/Fly_fight_analysis-Ricardo Diaz-Rincon-2022-02-23/videos/00004.mp4'\n",
        "\n",
        "#don't edit:\n",
        "deeplabcut.create_video_with_all_detections(path_config_file, [Specific_videofile], shuffle=shuffle)"
      ]
    },
    {
      "cell_type": "markdown",
      "metadata": {
        "id": "3-OgTJ0Lz20e"
      },
      "source": [
        "If the resutling video (ends in full.mp4) is not good, we highly recommend adding more data and training again. See here: https://deeplabcut.github.io/DeepLabCut/docs/maDLC_UserGuide.html#decision-break-point"
      ]
    },
    {
      "cell_type": "code",
      "source": [
        "pickle_file = ''\n",
        "deeplabcut.find_outliers_in_raw_data(path_config_file, pickle_file, Specific_videofile)"
      ],
      "metadata": {
        "id": "moaqxQ4RX_Kj"
      },
      "execution_count": null,
      "outputs": []
    },
    {
      "cell_type": "markdown",
      "metadata": {
        "id": "PxRLS2_-r55K"
      },
      "source": [
        "# Next, we will assemble animals using our data-driven optimal graph method:\n",
        "\n",
        "- Here, we will find the optimal graph, which matches the \"data-driven\" method from our paper (Figure adapted from Lauer et al. 2021):\n",
        "\n",
        "![alt text](https://images.squarespace-cdn.com/content/v1/57f6d51c9f74566f55ecf271/1626266017809-XO6NX84QB4FBAZGOTCEY/fig3.jpg?format=400w)\n",
        "\n",
        "\n",
        "- note, you can set the number of animals you expect to see, so check, edit, then click run:"
      ]
    },
    {
      "cell_type": "code",
      "execution_count": 14,
      "metadata": {
        "id": "zIvXM7TXIs-U",
        "colab": {
          "base_uri": "https://localhost:8080/"
        },
        "outputId": "a51ad4db-a7a5-497e-eaf7-72479d61bcc2"
      },
      "outputs": [
        {
          "output_type": "stream",
          "name": "stderr",
          "text": [
            "Config:\n",
            "{'all_joints': [[0], [1], [2]],\n",
            " 'all_joints_names': ['head', 'left_wing', 'right_wing'],\n",
            " 'batch_size': 1,\n",
            " 'crop_pad': 0,\n",
            " 'dataset': 'training-datasets/iteration-0/UnaugmentedDataSet_Fly_fight_analysisFeb23/Fly_fight_analysis_Ricardo '\n",
            "            'Diaz-Rincon95shuffle1.pickle',\n",
            " 'dataset_type': 'multi-animal-imgaug',\n",
            " 'deterministic': False,\n",
            " 'fg_fraction': 0.25,\n",
            " 'global_scale': 0.8,\n",
            " 'init_weights': '/usr/local/lib/python3.7/dist-packages/deeplabcut/pose_estimation_tensorflow/models/pretrained/resnet_v1_50.ckpt',\n",
            " 'intermediate_supervision': False,\n",
            " 'intermediate_supervision_layer': 12,\n",
            " 'location_refinement': True,\n",
            " 'locref_huber_loss': True,\n",
            " 'locref_loss_weight': 1.0,\n",
            " 'locref_smooth': False,\n",
            " 'locref_stdev': 7.2801,\n",
            " 'log_dir': 'log',\n",
            " 'mean_pixel': [123.68, 116.779, 103.939],\n",
            " 'minconfidence': 0.01,\n",
            " 'mirror': False,\n",
            " 'multi_stage': True,\n",
            " 'net_type': 'resnet_50',\n",
            " 'nmsradius': 5.0,\n",
            " 'num_idchannel': 0,\n",
            " 'num_joints': 3,\n",
            " 'num_limbs': 3,\n",
            " 'optimizer': 'sgd',\n",
            " 'paf_best': [1, 0, 2],\n",
            " 'pairwise_huber_loss': True,\n",
            " 'pairwise_predict': False,\n",
            " 'partaffinityfield_graph': [[0, 1], [0, 2], [1, 2]],\n",
            " 'partaffinityfield_predict': True,\n",
            " 'regularize': False,\n",
            " 'scoremap_dir': 'test',\n",
            " 'shuffle': True,\n",
            " 'sigma': 1,\n",
            " 'snapshot_prefix': '/content/drive/My Drive/Fly_fight_analysis-Ricardo '\n",
            "                    'Diaz-Rincon-2022-02-23/dlc-models/iteration-0/Fly_fight_analysisFeb23-trainset95shuffle1/test/snapshot',\n",
            " 'stride': 8.0,\n",
            " 'weigh_negatives': False,\n",
            " 'weigh_only_present_joints': False,\n",
            " 'weigh_part_predictions': False,\n",
            " 'weight_decay': 0.0001}\n"
          ]
        },
        {
          "output_type": "stream",
          "name": "stdout",
          "text": [
            "Using snapshot-50000 for model /content/drive/My Drive/Fly_fight_analysis-Ricardo Diaz-Rincon-2022-02-23/dlc-models/iteration-0/Fly_fight_analysisFeb23-trainset95shuffle1\n",
            "Analyzing all the videos in the directory...\n",
            "Processing...  /content/drive/My Drive/Fly_fight_analysis-Ricardo Diaz-Rincon-2022-02-23/videos/00004.mp4\n",
            "Analyzing /content/drive/My Drive/Fly_fight_analysis-Ricardo Diaz-Rincon-2022-02-23/videos/00004DLC_dlcrnetms5_Fly_fight_analysisFeb23shuffle1_50000.h5\n"
          ]
        },
        {
          "output_type": "stream",
          "name": "stderr",
          "text": [
            "100%|██████████| 6780/6780 [00:03<00:00, 2105.53it/s]\n",
            "6780it [00:00, 51927.33it/s]"
          ]
        },
        {
          "output_type": "stream",
          "name": "stdout",
          "text": [
            "The tracklets were created (i.e., under the hood deeplabcut.convert_detections2tracklets was run). Now you can 'refine_tracklets' in the GUI, or run 'deeplabcut.stitch_tracklets'.\n",
            "Analyzing all the videos in the directory...\n",
            "No video(s) found. Please check your path!\n"
          ]
        },
        {
          "output_type": "stream",
          "name": "stderr",
          "text": [
            "\n"
          ]
        }
      ],
      "source": [
        "#Check and edit:\n",
        "numAnimals = 6 #how many animals do you expect to find?\n",
        "tracktype= 'box' #box, skeleton, ellipse:\n",
        "#-- ellipse is recommended, unless you have a single-point ma project, then use BOX!\n",
        "\n",
        "#Optional: \n",
        "#imagine you tracked a point that is not useful for assembly, \n",
        "#like a tail tip that is far from the body, consider dropping it for this step (it's still used later)!\n",
        "#To drop it, uncomment the next line TWO lines and add your parts(s):\n",
        "\n",
        "#bodypart= 'Tail_end'\n",
        "#deeplabcut.convert_detections2tracklets(path_config_file, videofile_path, videotype=VideoType, shuffle=shuffle, overwrite=True, ignore_bodyparts=[bodypart])\n",
        "\n",
        "#OR don't drop, just click RUN:\n",
        "deeplabcut.convert_detections2tracklets(path_config_file, videofile_path, videotype=VideoType, \n",
        "                                        shuffle=shuffle, overwrite=True)\n",
        "\n",
        "deeplabcut.stitch_tracklets(path_config_file, videofile_path, shuffle=shuffle, track_method=tracktype, n_tracks=numAnimals)"
      ]
    },
    {
      "cell_type": "markdown",
      "metadata": {
        "id": "TqbAnyfL0Q7h"
      },
      "source": [
        "Now let's filter the data to remove any small jitter:"
      ]
    },
    {
      "cell_type": "code",
      "execution_count": 15,
      "metadata": {
        "id": "a6izVWX8sdzL",
        "colab": {
          "base_uri": "https://localhost:8080/"
        },
        "outputId": "12dd9c5c-361b-48ed-ab5a-1c408f15db05"
      },
      "outputs": [
        {
          "output_type": "stream",
          "name": "stdout",
          "text": [
            "Analyzing all the videos in the directory...\n",
            "Filtering with median model /content/drive/My Drive/Fly_fight_analysis-Ricardo Diaz-Rincon-2022-02-23/videos/00004.mp4\n",
            "No unfiltered data file found in /content/drive/My Drive/Fly_fight_analysis-Ricardo Diaz-Rincon-2022-02-23/videos for video 00004 and scorer DLC_dlcrnetms5_Fly_fight_analysisFeb23shuffle1_50000 and box tracker.\n"
          ]
        }
      ],
      "source": [
        "deeplabcut.filterpredictions(path_config_file, \n",
        "                                 videofile_path, \n",
        "                                 shuffle=shuffle,\n",
        "                                 videotype=VideoType, \n",
        "                                 track_method = tracktype)"
      ]
    },
    {
      "cell_type": "markdown",
      "metadata": {
        "id": "Zk4xGb8Ftf3B"
      },
      "source": [
        "## Create plots of your trajectories:"
      ]
    },
    {
      "cell_type": "code",
      "execution_count": 16,
      "metadata": {
        "id": "gX21zZbXoEKJ",
        "colab": {
          "base_uri": "https://localhost:8080/"
        },
        "outputId": "d476f0ba-3b6a-4ed0-edd7-aff69524dfc7"
      },
      "outputs": [
        {
          "output_type": "stream",
          "name": "stdout",
          "text": [
            "Analyzing all the videos in the directory...\n",
            "Loading  /content/drive/My Drive/Fly_fight_analysis-Ricardo Diaz-Rincon-2022-02-23/videos/00004.mp4 and data.\n",
            "No unfiltered data file found in /content/drive/My Drive/Fly_fight_analysis-Ricardo Diaz-Rincon-2022-02-23/videos for video 00004 and scorer DLC_dlcrnetms5_Fly_fight_analysisFeb23shuffle1_50000 and box tracker.\n",
            "No detection data found in /content/drive/My Drive/Fly_fight_analysis-Ricardo Diaz-Rincon-2022-02-23/videos for video 00004, scorer DLC_dlcrnetms5_Fly_fight_analysisFeb23shuffle1_50000, and tracker box\n",
            "Make sure /content/drive/My Drive/Fly_fight_analysis-Ricardo Diaz-Rincon-2022-02-23/videos/00004.mp4 was previously analyzed, and that detections were successively converted to tracklets using \"deeplabcut.convert_detections2tracklets()\" and \"deeplabcut.stitch_tracklets()\".\n",
            "Plots could not be created! Videos were not evaluated with the current scorer DLC_dlcrnetms5_Fly_fight_analysisFeb23shuffle1_50000.\n"
          ]
        }
      ],
      "source": [
        "deeplabcut.plot_trajectories(path_config_file, videofile_path, videotype=VideoType, shuffle=shuffle, track_method=tracktype)"
      ]
    },
    {
      "cell_type": "markdown",
      "metadata": {
        "id": "pqaCw15v8EmB"
      },
      "source": [
        "Now you can look at the plot-poses file and check the \"plot-likelihood.png\" might want to change the \"p-cutoff\" in the config.yaml file so that you have only high confidnece points plotted in the video. i.e. ~0.8 or 0.9. The current default is 0.4. "
      ]
    },
    {
      "cell_type": "markdown",
      "metadata": {
        "id": "pCrUvQIvoEKD"
      },
      "source": [
        "## Create labeled video:\n",
        "This funtion is for visualiztion purpose and can be used to create a video in .mp4 format with labels predicted by the network. This video is saved in the same directory where the original video resides. "
      ]
    },
    {
      "cell_type": "code",
      "execution_count": null,
      "metadata": {
        "id": "6aDF7Q7KoEKE"
      },
      "outputs": [],
      "source": [
        "deeplabcut.create_labeled_video(path_config_file,\n",
        "                                videofile_path, \n",
        "                                shuffle=shuffle, \n",
        "                                color_by=\"individual\",\n",
        "                                videotype=VideoType, \n",
        "                                save_frames=False,\n",
        "                                filtered=True)"
      ]
    }
  ]
}